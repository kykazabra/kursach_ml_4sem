{
 "cells": [
  {
   "cell_type": "markdown",
   "id": "42b640ac",
   "metadata": {},
   "source": [
    "## Курсовая работа по дисциплине \"Машинное обучение\" на тему \"Использование моделей машинного обучения, построенных на основе регрессий\""
   ]
  },
  {
   "cell_type": "code",
   "execution_count": 2,
   "id": "e46932a9",
   "metadata": {},
   "outputs": [],
   "source": [
    "import pandas as pd\n",
    "import os\n",
    "import matplotlib.pyplot as plt\n",
    "import re\n",
    "import seaborn as sns\n",
    "import numpy as np\n",
    "import itertools\n",
    "import warnings\n",
    "from sklearn.preprocessing import OneHotEncoder, PolynomialFeatures\n",
    "from sklearn.linear_model import LinearRegression, Lasso, Ridge, ElasticNet\n",
    "from sklearn.model_selection import train_test_split, GridSearchCV, RandomizedSearchCV, cross_val_score\n",
    "from sklearn.metrics import r2_score, mean_absolute_error, mean_squared_error, mean_absolute_percentage_error\n",
    "from sklearn.neural_network import MLPRegressor\n",
    "from xgboost import XGBRegressor\n",
    "from lightgbm import LGBMRegressor\n",
    "from catboost import CatBoostRegressor\n",
    "\n",
    "sns.set_style('darkgrid')  # Настримваем \"красивое\" отображение графиков\n",
    "sns.set_palette('flare')\n",
    "warnings.simplefilter(\"ignore\")  # Отключаем предупреждения"
   ]
  },
  {
   "cell_type": "markdown",
   "id": "53fa6660",
   "metadata": {},
   "source": [
    "<span style=\"color:mediumblue\">\n",
    "Предупреждения выключаю, чтобы не вылезали красные некрасивые уведомления от sklearn о выходе из цикла по превышению итераций.\n",
    "</span>"
   ]
  },
  {
   "cell_type": "markdown",
   "id": "51a5560b",
   "metadata": {},
   "source": [
    "## Выбор датасета"
   ]
  },
  {
   "cell_type": "markdown",
   "id": "d8f527b0",
   "metadata": {},
   "source": [
    "<span style=\"color:mediumblue\">\n",
    "Поскольку тема поставлена довольно широко, я решил выбрать тематику датасета, близкую себе по душе. Выбор остановился на компьютерном железе.\n",
    "</span>"
   ]
  },
  {
   "cell_type": "markdown",
   "id": "f798d713",
   "metadata": {},
   "source": [
    "https://www.kaggle.com/datasets/docyoda/computer-parts-and-accessories"
   ]
  },
  {
   "cell_type": "markdown",
   "id": "b9f0c587",
   "metadata": {},
   "source": [
    "<span style=\"color:mediumblue\">\n",
    "Нашел на Kaggle дюжину датасетов с данными по различным компьютерным компонентам от одного автора и решил выбрать из них наиболее подходящий для задачи регрессии. \n",
    "</span>"
   ]
  },
  {
   "cell_type": "markdown",
   "id": "dae44690",
   "metadata": {},
   "source": [
    "<span style=\"color:mediumblue\">\n",
    "Я планирую попробывать предсказывать цену компонента, основываясь на других известных данных о нем.\n",
    "</span>"
   ]
  },
  {
   "cell_type": "code",
   "execution_count": 28,
   "id": "7bb325f1",
   "metadata": {},
   "outputs": [
    {
     "name": "stdout",
     "output_type": "stream",
     "text": [
      "Имя: case-fan.json            размер: (1492, 8) непустые в целевой: 862  доля непустых в целевой: 0.5777479892761395\n",
      "Имя: cpu-cooler.json          размер: (1111, 6) непустые в целевой: 491  доля непустых в целевой: 0.44194419441944194\n",
      "Имя: cpu.json                 размер: (1213, 8) непустые в целевой: 547  доля непустых в целевой: 0.45094806265457543\n",
      "Имя: external-hard-drive.json размер: (319, 7)  непустые в целевой: 152  доля непустых в целевой: 0.47648902821316613\n",
      "Имя: headphones.json          размер: (2288, 8) непустые в целевой: 804  доля непустых в целевой: 0.3513986013986014\n",
      "Имя: internal-hard-drive.json размер: (3788, 8) непустые в целевой: 1743 доля непустых в целевой: 0.4601372756071806\n",
      "Имя: memory.json              размер: (7151, 8) непустые в целевой: 2338 доля непустых в целевой: 0.32694728010068524\n",
      "Имя: monitor.json             размер: (2768, 8) непустые в целевой: 1128 доля непустых в целевой: 0.407514450867052\n",
      "Имя: mouse.json               размер: (1948, 7) непустые в целевой: 862  доля непустых в целевой: 0.44250513347022585\n",
      "Имя: power-supply.json        размер: (2027, 7) непустые в целевой: 677  доля непустых в целевой: 0.3339911198815984\n",
      "Имя: video-card.json          размер: (4175, 8) непустые в целевой: 1138 доля непустых в целевой: 0.2725748502994012\n"
     ]
    }
   ],
   "source": [
    "max_name = max([len(x) for x in os.listdir('./data_curs')])  # Находим макс. длинну названия для аккуратного отображения\n",
    "\n",
    "for dataset in os.scandir('./data_curs'):  # Сканируем датасеты в директории\n",
    "    df = pd.read_json(dataset.path)\n",
    "    print(f'Имя: {dataset.name.ljust(max_name, \" \")} размер: {str(df.shape).ljust(9, \" \")} непустые в целевой: '\n",
    "          f'{str(df[\"price\"].dropna().size).ljust(4, \" \")} доля непустых в целевой: '\n",
    "          f'{df[\"price\"].dropna().size/df.shape[0]}')"
   ]
  },
  {
   "cell_type": "markdown",
   "id": "99e4d841",
   "metadata": {},
   "source": [
    "<span style=\"color:mediumblue\">\n",
    "Наиболее важным параметром для отбора я счел кол-во непустых значений целевой переменной (которой предполагается цена), т.к. даже, допустим, заполнение средним значением, не дало бы лучших результатов из-за неуникальности сэмплов (sample).\n",
    "</span>"
   ]
  },
  {
   "cell_type": "markdown",
   "id": "dabdca86",
   "metadata": {},
   "source": [
    "<span style=\"color:mediumblue\">\n",
    "Вследствие этого выбор пал на датасет об <i>оперативной памяти</i> под названием <i>memory.json</i>. В этом датасете содержится 8 колонок (потенциальных фичей (feature)), он самый объемный из предложенных (7151 строка), да и значений цены там также больше всего (2338 строк).\n",
    "</span>"
   ]
  },
  {
   "cell_type": "markdown",
   "id": "8f108e51",
   "metadata": {},
   "source": [
    "## Первичный анализ"
   ]
  },
  {
   "cell_type": "code",
   "execution_count": 32,
   "id": "212cd40b",
   "metadata": {},
   "outputs": [
    {
     "data": {
      "text/html": [
       "<div>\n",
       "<style scoped>\n",
       "    .dataframe tbody tr th:only-of-type {\n",
       "        vertical-align: middle;\n",
       "    }\n",
       "\n",
       "    .dataframe tbody tr th {\n",
       "        vertical-align: top;\n",
       "    }\n",
       "\n",
       "    .dataframe thead th {\n",
       "        text-align: right;\n",
       "    }\n",
       "</style>\n",
       "<table border=\"1\" class=\"dataframe\">\n",
       "  <thead>\n",
       "    <tr style=\"text-align: right;\">\n",
       "      <th></th>\n",
       "      <th>speed</th>\n",
       "      <th>type</th>\n",
       "      <th>modules</th>\n",
       "      <th>price_/_gb</th>\n",
       "      <th>color</th>\n",
       "      <th>cas_latency</th>\n",
       "      <th>name</th>\n",
       "      <th>price</th>\n",
       "    </tr>\n",
       "  </thead>\n",
       "  <tbody>\n",
       "    <tr>\n",
       "      <th>0</th>\n",
       "      <td>DDR4-3000</td>\n",
       "      <td>288-pin DIMM</td>\n",
       "      <td>2 x 8GB</td>\n",
       "      <td>$5.555</td>\n",
       "      <td>Black / Yellow</td>\n",
       "      <td>15.0</td>\n",
       "      <td>Corsair Vengeance LPX 16 GB</td>\n",
       "      <td>$88.88</td>\n",
       "    </tr>\n",
       "    <tr>\n",
       "      <th>1</th>\n",
       "      <td>DDR4-3200</td>\n",
       "      <td>288-pin DIMM</td>\n",
       "      <td>2 x 8GB</td>\n",
       "      <td>$5.630</td>\n",
       "      <td>Black / Yellow</td>\n",
       "      <td>16.0</td>\n",
       "      <td>Corsair Vengeance LPX 16 GB</td>\n",
       "      <td>$90.08</td>\n",
       "    </tr>\n",
       "    <tr>\n",
       "      <th>2</th>\n",
       "      <td>DDR4-3200</td>\n",
       "      <td>288-pin DIMM</td>\n",
       "      <td>2 x 8GB</td>\n",
       "      <td>$6.406</td>\n",
       "      <td>Black</td>\n",
       "      <td>16.0</td>\n",
       "      <td>G.Skill Trident Z RGB 16 GB</td>\n",
       "      <td>$102.49</td>\n",
       "    </tr>\n",
       "    <tr>\n",
       "      <th>3</th>\n",
       "      <td>DDR4-3200</td>\n",
       "      <td>288-pin DIMM</td>\n",
       "      <td>2 x 8GB</td>\n",
       "      <td>$6.512</td>\n",
       "      <td>Black</td>\n",
       "      <td>16.0</td>\n",
       "      <td>Corsair Vengeance RGB Pro 16 GB</td>\n",
       "      <td>$104.19</td>\n",
       "    </tr>\n",
       "    <tr>\n",
       "      <th>4</th>\n",
       "      <td>DDR4-3200</td>\n",
       "      <td>288-pin DIMM</td>\n",
       "      <td>2 x 16GB</td>\n",
       "      <td>$5.665</td>\n",
       "      <td>Black</td>\n",
       "      <td>16.0</td>\n",
       "      <td>Corsair Vengeance RGB Pro 32 GB</td>\n",
       "      <td>$181.29</td>\n",
       "    </tr>\n",
       "    <tr>\n",
       "      <th>...</th>\n",
       "      <td>...</td>\n",
       "      <td>...</td>\n",
       "      <td>...</td>\n",
       "      <td>...</td>\n",
       "      <td>...</td>\n",
       "      <td>...</td>\n",
       "      <td>...</td>\n",
       "      <td>...</td>\n",
       "    </tr>\n",
       "    <tr>\n",
       "      <th>7146</th>\n",
       "      <td>DDR3-1600</td>\n",
       "      <td>240-pin DIMM</td>\n",
       "      <td>3 x 4GB</td>\n",
       "      <td>None</td>\n",
       "      <td>Black</td>\n",
       "      <td>10.0</td>\n",
       "      <td>Mushkin Blackline 12 GB</td>\n",
       "      <td>None</td>\n",
       "    </tr>\n",
       "    <tr>\n",
       "      <th>7147</th>\n",
       "      <td>DDR3-1600</td>\n",
       "      <td>240-pin DIMM</td>\n",
       "      <td>2 x 4GB</td>\n",
       "      <td>None</td>\n",
       "      <td>Black</td>\n",
       "      <td>10.0</td>\n",
       "      <td>Mushkin Blackline 8 GB</td>\n",
       "      <td>None</td>\n",
       "    </tr>\n",
       "    <tr>\n",
       "      <th>7148</th>\n",
       "      <td>DDR3-1866</td>\n",
       "      <td>240-pin DIMM</td>\n",
       "      <td>2 x 8GB</td>\n",
       "      <td>None</td>\n",
       "      <td>Red</td>\n",
       "      <td>9.0</td>\n",
       "      <td>Mushkin Redline 16 GB</td>\n",
       "      <td>None</td>\n",
       "    </tr>\n",
       "    <tr>\n",
       "      <th>7149</th>\n",
       "      <td>DDR3-1866</td>\n",
       "      <td>240-pin DIMM</td>\n",
       "      <td>4 x 8GB</td>\n",
       "      <td>None</td>\n",
       "      <td>Red</td>\n",
       "      <td>9.0</td>\n",
       "      <td>Mushkin Redline 32 GB</td>\n",
       "      <td>None</td>\n",
       "    </tr>\n",
       "    <tr>\n",
       "      <th>7150</th>\n",
       "      <td>DDR3-1600</td>\n",
       "      <td>240-pin DIMM</td>\n",
       "      <td>4 x 8GB</td>\n",
       "      <td>None</td>\n",
       "      <td>Black / White</td>\n",
       "      <td>9.0</td>\n",
       "      <td>Mushkin Blackline 32 GB</td>\n",
       "      <td>None</td>\n",
       "    </tr>\n",
       "  </tbody>\n",
       "</table>\n",
       "<p>7151 rows × 8 columns</p>\n",
       "</div>"
      ],
      "text/plain": [
       "          speed          type   modules price_/_gb           color  \\\n",
       "0     DDR4-3000  288-pin DIMM   2 x 8GB     $5.555  Black / Yellow   \n",
       "1     DDR4-3200  288-pin DIMM   2 x 8GB     $5.630  Black / Yellow   \n",
       "2     DDR4-3200  288-pin DIMM   2 x 8GB     $6.406           Black   \n",
       "3     DDR4-3200  288-pin DIMM   2 x 8GB     $6.512           Black   \n",
       "4     DDR4-3200  288-pin DIMM  2 x 16GB     $5.665           Black   \n",
       "...         ...           ...       ...        ...             ...   \n",
       "7146  DDR3-1600  240-pin DIMM   3 x 4GB       None           Black   \n",
       "7147  DDR3-1600  240-pin DIMM   2 x 4GB       None           Black   \n",
       "7148  DDR3-1866  240-pin DIMM   2 x 8GB       None             Red   \n",
       "7149  DDR3-1866  240-pin DIMM   4 x 8GB       None             Red   \n",
       "7150  DDR3-1600  240-pin DIMM   4 x 8GB       None   Black / White   \n",
       "\n",
       "      cas_latency                             name    price  \n",
       "0            15.0      Corsair Vengeance LPX 16 GB   $88.88  \n",
       "1            16.0      Corsair Vengeance LPX 16 GB   $90.08  \n",
       "2            16.0      G.Skill Trident Z RGB 16 GB  $102.49  \n",
       "3            16.0  Corsair Vengeance RGB Pro 16 GB  $104.19  \n",
       "4            16.0  Corsair Vengeance RGB Pro 32 GB  $181.29  \n",
       "...           ...                              ...      ...  \n",
       "7146         10.0          Mushkin Blackline 12 GB     None  \n",
       "7147         10.0           Mushkin Blackline 8 GB     None  \n",
       "7148          9.0            Mushkin Redline 16 GB     None  \n",
       "7149          9.0            Mushkin Redline 32 GB     None  \n",
       "7150          9.0          Mushkin Blackline 32 GB     None  \n",
       "\n",
       "[7151 rows x 8 columns]"
      ]
     },
     "execution_count": 32,
     "metadata": {},
     "output_type": "execute_result"
    }
   ],
   "source": [
    "mem = pd.read_json(r'./data_curs/memory.json')  # Считываем датасет\n",
    "mem"
   ]
  },
  {
   "cell_type": "code",
   "execution_count": 5,
   "id": "f8406984",
   "metadata": {},
   "outputs": [
    {
     "name": "stdout",
     "output_type": "stream",
     "text": [
      "<class 'pandas.core.frame.DataFrame'>\n",
      "RangeIndex: 7151 entries, 0 to 7150\n",
      "Data columns (total 8 columns):\n",
      " #   Column       Non-Null Count  Dtype  \n",
      "---  ------       --------------  -----  \n",
      " 0   speed        7151 non-null   object \n",
      " 1   type         7151 non-null   object \n",
      " 2   modules      7151 non-null   object \n",
      " 3   price_/_gb   2338 non-null   object \n",
      " 4   color        6889 non-null   object \n",
      " 5   cas_latency  7147 non-null   float64\n",
      " 6   name         7151 non-null   object \n",
      " 7   price        2338 non-null   object \n",
      "dtypes: float64(1), object(7)\n",
      "memory usage: 447.1+ KB\n"
     ]
    }
   ],
   "source": [
    "mem.info()  # Основная информация"
   ]
  },
  {
   "cell_type": "code",
   "execution_count": 6,
   "id": "dec346fb",
   "metadata": {},
   "outputs": [
    {
     "data": {
      "text/plain": [
       "chipset           0\n",
       "memory            0\n",
       "core_clock      121\n",
       "boost_clock    2253\n",
       "interface         0\n",
       "color           284\n",
       "name              0\n",
       "price          3037\n",
       "dtype: int64"
      ]
     },
     "execution_count": 6,
     "metadata": {},
     "output_type": "execute_result"
    }
   ],
   "source": [
    "df.isna().sum()  # Кол-во null в каждом столбце"
   ]
  },
  {
   "cell_type": "markdown",
   "id": "969b87ff",
   "metadata": {},
   "source": [
    "<span style=\"color:mediumblue\">\n",
    "После вывода описательной информации можно заметить, что меньше всего значений (из потенциально полезных колонок), к сожалению, в столбце price, а остальные столбцы практически полностью заполнены.\n",
    "</span>"
   ]
  },
  {
   "cell_type": "code",
   "execution_count": 7,
   "id": "2bf22ad7",
   "metadata": {},
   "outputs": [
    {
     "data": {
      "text/html": [
       "<div>\n",
       "<style scoped>\n",
       "    .dataframe tbody tr th:only-of-type {\n",
       "        vertical-align: middle;\n",
       "    }\n",
       "\n",
       "    .dataframe tbody tr th {\n",
       "        vertical-align: top;\n",
       "    }\n",
       "\n",
       "    .dataframe thead th {\n",
       "        text-align: right;\n",
       "    }\n",
       "</style>\n",
       "<table border=\"1\" class=\"dataframe\">\n",
       "  <thead>\n",
       "    <tr style=\"text-align: right;\">\n",
       "      <th></th>\n",
       "      <th>chipset</th>\n",
       "      <th>memory</th>\n",
       "      <th>core_clock</th>\n",
       "      <th>boost_clock</th>\n",
       "      <th>interface</th>\n",
       "      <th>color</th>\n",
       "      <th>name</th>\n",
       "      <th>price</th>\n",
       "    </tr>\n",
       "  </thead>\n",
       "  <tbody>\n",
       "    <tr>\n",
       "      <th>count</th>\n",
       "      <td>4175</td>\n",
       "      <td>4175</td>\n",
       "      <td>4054</td>\n",
       "      <td>1922</td>\n",
       "      <td>4175</td>\n",
       "      <td>3891</td>\n",
       "      <td>4175</td>\n",
       "      <td>1138</td>\n",
       "    </tr>\n",
       "    <tr>\n",
       "      <th>unique</th>\n",
       "      <td>275</td>\n",
       "      <td>22</td>\n",
       "      <td>333</td>\n",
       "      <td>253</td>\n",
       "      <td>5</td>\n",
       "      <td>54</td>\n",
       "      <td>3123</td>\n",
       "      <td>1120</td>\n",
       "    </tr>\n",
       "    <tr>\n",
       "      <th>top</th>\n",
       "      <td>GeForce GTX 1080</td>\n",
       "      <td>2 GB</td>\n",
       "      <td>1000 MHz</td>\n",
       "      <td>1683 MHz</td>\n",
       "      <td>PCIe x16</td>\n",
       "      <td>Black</td>\n",
       "      <td>Gigabyte WINDFORCE</td>\n",
       "      <td>$717.19</td>\n",
       "    </tr>\n",
       "    <tr>\n",
       "      <th>freq</th>\n",
       "      <td>80</td>\n",
       "      <td>948</td>\n",
       "      <td>189</td>\n",
       "      <td>70</td>\n",
       "      <td>4133</td>\n",
       "      <td>855</td>\n",
       "      <td>36</td>\n",
       "      <td>2</td>\n",
       "    </tr>\n",
       "  </tbody>\n",
       "</table>\n",
       "</div>"
      ],
      "text/plain": [
       "                 chipset memory core_clock boost_clock interface  color  \\\n",
       "count               4175   4175       4054        1922      4175   3891   \n",
       "unique               275     22        333         253         5     54   \n",
       "top     GeForce GTX 1080   2 GB   1000 MHz    1683 MHz  PCIe x16  Black   \n",
       "freq                  80    948        189          70      4133    855   \n",
       "\n",
       "                      name    price  \n",
       "count                 4175     1138  \n",
       "unique                3123     1120  \n",
       "top     Gigabyte WINDFORCE  $717.19  \n",
       "freq                    36        2  "
      ]
     },
     "execution_count": 7,
     "metadata": {},
     "output_type": "execute_result"
    }
   ],
   "source": [
    "df.describe()  # Краткая сводка по числовым характеристикам"
   ]
  },
  {
   "cell_type": "markdown",
   "id": "dded1bb0",
   "metadata": {},
   "source": [
    "## Предобработка"
   ]
  },
  {
   "cell_type": "code",
   "execution_count": 33,
   "id": "f098495f",
   "metadata": {},
   "outputs": [
    {
     "data": {
      "text/html": [
       "<div>\n",
       "<style scoped>\n",
       "    .dataframe tbody tr th:only-of-type {\n",
       "        vertical-align: middle;\n",
       "    }\n",
       "\n",
       "    .dataframe tbody tr th {\n",
       "        vertical-align: top;\n",
       "    }\n",
       "\n",
       "    .dataframe thead th {\n",
       "        text-align: right;\n",
       "    }\n",
       "</style>\n",
       "<table border=\"1\" class=\"dataframe\">\n",
       "  <thead>\n",
       "    <tr style=\"text-align: right;\">\n",
       "      <th></th>\n",
       "      <th>speed</th>\n",
       "      <th>type</th>\n",
       "      <th>modules</th>\n",
       "      <th>price_/_gb</th>\n",
       "      <th>color</th>\n",
       "      <th>cas_latency</th>\n",
       "      <th>name</th>\n",
       "      <th>price</th>\n",
       "    </tr>\n",
       "  </thead>\n",
       "  <tbody>\n",
       "    <tr>\n",
       "      <th>0</th>\n",
       "      <td>DDR4-3000</td>\n",
       "      <td>288-pin DIMM</td>\n",
       "      <td>2 x 8GB</td>\n",
       "      <td>$5.555</td>\n",
       "      <td>Black / Yellow</td>\n",
       "      <td>15.0</td>\n",
       "      <td>Corsair Vengeance LPX 16 GB</td>\n",
       "      <td>$88.88</td>\n",
       "    </tr>\n",
       "    <tr>\n",
       "      <th>1</th>\n",
       "      <td>DDR4-3200</td>\n",
       "      <td>288-pin DIMM</td>\n",
       "      <td>2 x 8GB</td>\n",
       "      <td>$5.630</td>\n",
       "      <td>Black / Yellow</td>\n",
       "      <td>16.0</td>\n",
       "      <td>Corsair Vengeance LPX 16 GB</td>\n",
       "      <td>$90.08</td>\n",
       "    </tr>\n",
       "    <tr>\n",
       "      <th>2</th>\n",
       "      <td>DDR4-3200</td>\n",
       "      <td>288-pin DIMM</td>\n",
       "      <td>2 x 8GB</td>\n",
       "      <td>$6.406</td>\n",
       "      <td>Black</td>\n",
       "      <td>16.0</td>\n",
       "      <td>G.Skill Trident Z RGB 16 GB</td>\n",
       "      <td>$102.49</td>\n",
       "    </tr>\n",
       "    <tr>\n",
       "      <th>3</th>\n",
       "      <td>DDR4-3200</td>\n",
       "      <td>288-pin DIMM</td>\n",
       "      <td>2 x 8GB</td>\n",
       "      <td>$6.512</td>\n",
       "      <td>Black</td>\n",
       "      <td>16.0</td>\n",
       "      <td>Corsair Vengeance RGB Pro 16 GB</td>\n",
       "      <td>$104.19</td>\n",
       "    </tr>\n",
       "    <tr>\n",
       "      <th>4</th>\n",
       "      <td>DDR4-3200</td>\n",
       "      <td>288-pin DIMM</td>\n",
       "      <td>2 x 16GB</td>\n",
       "      <td>$5.665</td>\n",
       "      <td>Black</td>\n",
       "      <td>16.0</td>\n",
       "      <td>Corsair Vengeance RGB Pro 32 GB</td>\n",
       "      <td>$181.29</td>\n",
       "    </tr>\n",
       "  </tbody>\n",
       "</table>\n",
       "</div>"
      ],
      "text/plain": [
       "       speed          type   modules price_/_gb           color  cas_latency  \\\n",
       "0  DDR4-3000  288-pin DIMM   2 x 8GB     $5.555  Black / Yellow         15.0   \n",
       "1  DDR4-3200  288-pin DIMM   2 x 8GB     $5.630  Black / Yellow         16.0   \n",
       "2  DDR4-3200  288-pin DIMM   2 x 8GB     $6.406           Black         16.0   \n",
       "3  DDR4-3200  288-pin DIMM   2 x 8GB     $6.512           Black         16.0   \n",
       "4  DDR4-3200  288-pin DIMM  2 x 16GB     $5.665           Black         16.0   \n",
       "\n",
       "                              name    price  \n",
       "0      Corsair Vengeance LPX 16 GB   $88.88  \n",
       "1      Corsair Vengeance LPX 16 GB   $90.08  \n",
       "2      G.Skill Trident Z RGB 16 GB  $102.49  \n",
       "3  Corsair Vengeance RGB Pro 16 GB  $104.19  \n",
       "4  Corsair Vengeance RGB Pro 32 GB  $181.29  "
      ]
     },
     "execution_count": 33,
     "metadata": {},
     "output_type": "execute_result"
    }
   ],
   "source": [
    "mem.head()"
   ]
  },
  {
   "cell_type": "markdown",
   "id": "07fedfa8",
   "metadata": {},
   "source": [
    "<span style=\"color:mediumblue\">\n",
    "Вкратце о столбцах исходного датасета (в меру моего понимания):<br>\n",
    "&nbsp;&nbsp;&nbsp;&nbsp; <i>speed</i> - Скорость памяти (MHz)<br>\n",
    "&nbsp;&nbsp;&nbsp;&nbsp; <i>type</i> - Тип памяти<br>\n",
    "&nbsp;&nbsp;&nbsp;&nbsp; <i>modules</i> - Кол-во плашек в комплекте и объем каждой (GB, MB)<br>\n",
    "&nbsp;&nbsp;&nbsp;&nbsp; <i>price_/_gb</i> - Цена за гигабайт (USD)<br>\n",
    "&nbsp;&nbsp;&nbsp;&nbsp; <i>color</i> - Цвет памяти<br>\n",
    "&nbsp;&nbsp;&nbsp;&nbsp; <i>cas_latency</i> - Тайминги ОЗУ (ns / наносекунды)<br>\n",
    "&nbsp;&nbsp;&nbsp;&nbsp; <i>name</i> - Название<br>\n",
    "&nbsp;&nbsp;&nbsp;&nbsp; <i>price</i> - Цена (USD)\n",
    "</span>"
   ]
  },
  {
   "cell_type": "code",
   "execution_count": 8,
   "id": "731834ef",
   "metadata": {},
   "outputs": [
    {
     "data": {
      "text/html": [
       "<div>\n",
       "<style scoped>\n",
       "    .dataframe tbody tr th:only-of-type {\n",
       "        vertical-align: middle;\n",
       "    }\n",
       "\n",
       "    .dataframe tbody tr th {\n",
       "        vertical-align: top;\n",
       "    }\n",
       "\n",
       "    .dataframe thead th {\n",
       "        text-align: right;\n",
       "    }\n",
       "</style>\n",
       "<table border=\"1\" class=\"dataframe\">\n",
       "  <thead>\n",
       "    <tr style=\"text-align: right;\">\n",
       "      <th></th>\n",
       "      <th>speed</th>\n",
       "      <th>type</th>\n",
       "      <th>modules</th>\n",
       "      <th>price_/_gb</th>\n",
       "      <th>color</th>\n",
       "      <th>cas_latency</th>\n",
       "      <th>name</th>\n",
       "      <th>price</th>\n",
       "      <th>total_gb</th>\n",
       "      <th>amount</th>\n",
       "      <th>kind</th>\n",
       "    </tr>\n",
       "  </thead>\n",
       "  <tbody>\n",
       "    <tr>\n",
       "      <th>0</th>\n",
       "      <td>3000</td>\n",
       "      <td>288-pin DIMM</td>\n",
       "      <td>2 x 8GB</td>\n",
       "      <td>$5.555</td>\n",
       "      <td>Black / Yellow</td>\n",
       "      <td>15.0</td>\n",
       "      <td>Corsair Vengeance LPX 16 GB</td>\n",
       "      <td>88.88</td>\n",
       "      <td>16.0</td>\n",
       "      <td>2</td>\n",
       "      <td>DDR4</td>\n",
       "    </tr>\n",
       "    <tr>\n",
       "      <th>1</th>\n",
       "      <td>3200</td>\n",
       "      <td>288-pin DIMM</td>\n",
       "      <td>2 x 8GB</td>\n",
       "      <td>$5.630</td>\n",
       "      <td>Black / Yellow</td>\n",
       "      <td>16.0</td>\n",
       "      <td>Corsair Vengeance LPX 16 GB</td>\n",
       "      <td>90.08</td>\n",
       "      <td>16.0</td>\n",
       "      <td>2</td>\n",
       "      <td>DDR4</td>\n",
       "    </tr>\n",
       "    <tr>\n",
       "      <th>2</th>\n",
       "      <td>3200</td>\n",
       "      <td>288-pin DIMM</td>\n",
       "      <td>2 x 8GB</td>\n",
       "      <td>$6.406</td>\n",
       "      <td>Black</td>\n",
       "      <td>16.0</td>\n",
       "      <td>G.Skill Trident Z RGB 16 GB</td>\n",
       "      <td>102.49</td>\n",
       "      <td>16.0</td>\n",
       "      <td>2</td>\n",
       "      <td>DDR4</td>\n",
       "    </tr>\n",
       "    <tr>\n",
       "      <th>3</th>\n",
       "      <td>3200</td>\n",
       "      <td>288-pin DIMM</td>\n",
       "      <td>2 x 8GB</td>\n",
       "      <td>$6.512</td>\n",
       "      <td>Black</td>\n",
       "      <td>16.0</td>\n",
       "      <td>Corsair Vengeance RGB Pro 16 GB</td>\n",
       "      <td>104.19</td>\n",
       "      <td>16.0</td>\n",
       "      <td>2</td>\n",
       "      <td>DDR4</td>\n",
       "    </tr>\n",
       "    <tr>\n",
       "      <th>4</th>\n",
       "      <td>3200</td>\n",
       "      <td>288-pin DIMM</td>\n",
       "      <td>2 x 16GB</td>\n",
       "      <td>$5.665</td>\n",
       "      <td>Black</td>\n",
       "      <td>16.0</td>\n",
       "      <td>Corsair Vengeance RGB Pro 32 GB</td>\n",
       "      <td>181.29</td>\n",
       "      <td>32.0</td>\n",
       "      <td>2</td>\n",
       "      <td>DDR4</td>\n",
       "    </tr>\n",
       "  </tbody>\n",
       "</table>\n",
       "</div>"
      ],
      "text/plain": [
       "   speed          type   modules price_/_gb           color  cas_latency  \\\n",
       "0   3000  288-pin DIMM   2 x 8GB     $5.555  Black / Yellow         15.0   \n",
       "1   3200  288-pin DIMM   2 x 8GB     $5.630  Black / Yellow         16.0   \n",
       "2   3200  288-pin DIMM   2 x 8GB     $6.406           Black         16.0   \n",
       "3   3200  288-pin DIMM   2 x 8GB     $6.512           Black         16.0   \n",
       "4   3200  288-pin DIMM  2 x 16GB     $5.665           Black         16.0   \n",
       "\n",
       "                              name   price  total_gb  amount  kind  \n",
       "0      Corsair Vengeance LPX 16 GB   88.88      16.0       2  DDR4  \n",
       "1      Corsair Vengeance LPX 16 GB   90.08      16.0       2  DDR4  \n",
       "2      G.Skill Trident Z RGB 16 GB  102.49      16.0       2  DDR4  \n",
       "3  Corsair Vengeance RGB Pro 16 GB  104.19      16.0       2  DDR4  \n",
       "4  Corsair Vengeance RGB Pro 32 GB  181.29      32.0       2  DDR4  "
      ]
     },
     "execution_count": 8,
     "metadata": {},
     "output_type": "execute_result"
    }
   ],
   "source": [
    "mem['price'] = mem['price'].str.replace('$', '', regex=False).str.strip().astype(float)  # Преобразуем столбец price\n",
    "\n",
    "mem['total_gb'] = mem['modules'].str.replace('x', '*').apply(lambda x: eval(re.sub('GB|MB', '', x)))  \n",
    "# Получаем total_gb из modules\n",
    "mem['total_gb'] *= mem['modules'].apply(lambda x: 1 if re.search('GB', x) else 1/1024)  # Учитываем случаи с MB\n",
    "\n",
    "mem['amount'] = mem['modules'].apply(lambda x: int(x.split(' x ')[0]))  # Получаем amount из modules\n",
    "\n",
    "mem['kind'] = mem['speed'].apply(lambda x: x.split('-')[0])  # Получаем kind из speed\n",
    "\n",
    "mem['speed'] = mem['speed'].apply(lambda x: int(x.split('-')[1]))  # Преобразоваываем speed\n",
    "\n",
    "mem.head()"
   ]
  },
  {
   "cell_type": "markdown",
   "id": "cb2eb965",
   "metadata": {},
   "source": [
    "<span style=\"color:mediumblue\">\n",
    "Я привел типы нескольких столбцов к числовым. Сделал столбцы <i>total_gb</i> и <i>amount</i> из столбца <i>modules</i>. И так же сделал столбцы <i>kind</i> и <i>speed</i> (новый) из столбца <i>speed</i>.\n",
    "</span>"
   ]
  },
  {
   "cell_type": "code",
   "execution_count": 9,
   "id": "7face1d7",
   "metadata": {},
   "outputs": [
    {
     "data": {
      "text/html": [
       "<div>\n",
       "<style scoped>\n",
       "    .dataframe tbody tr th:only-of-type {\n",
       "        vertical-align: middle;\n",
       "    }\n",
       "\n",
       "    .dataframe tbody tr th {\n",
       "        vertical-align: top;\n",
       "    }\n",
       "\n",
       "    .dataframe thead th {\n",
       "        text-align: right;\n",
       "    }\n",
       "</style>\n",
       "<table border=\"1\" class=\"dataframe\">\n",
       "  <thead>\n",
       "    <tr style=\"text-align: right;\">\n",
       "      <th></th>\n",
       "      <th>name</th>\n",
       "      <th>kind</th>\n",
       "      <th>type</th>\n",
       "      <th>amount</th>\n",
       "      <th>total_gb</th>\n",
       "      <th>speed</th>\n",
       "      <th>cas_latency</th>\n",
       "      <th>price</th>\n",
       "    </tr>\n",
       "  </thead>\n",
       "  <tbody>\n",
       "    <tr>\n",
       "      <th>0</th>\n",
       "      <td>Corsair Vengeance LPX 16 GB</td>\n",
       "      <td>DDR4</td>\n",
       "      <td>288-pin DIMM</td>\n",
       "      <td>2</td>\n",
       "      <td>16.0</td>\n",
       "      <td>3000</td>\n",
       "      <td>15.0</td>\n",
       "      <td>88.88</td>\n",
       "    </tr>\n",
       "    <tr>\n",
       "      <th>1</th>\n",
       "      <td>Corsair Vengeance LPX 16 GB</td>\n",
       "      <td>DDR4</td>\n",
       "      <td>288-pin DIMM</td>\n",
       "      <td>2</td>\n",
       "      <td>16.0</td>\n",
       "      <td>3200</td>\n",
       "      <td>16.0</td>\n",
       "      <td>90.08</td>\n",
       "    </tr>\n",
       "    <tr>\n",
       "      <th>2</th>\n",
       "      <td>G.Skill Trident Z RGB 16 GB</td>\n",
       "      <td>DDR4</td>\n",
       "      <td>288-pin DIMM</td>\n",
       "      <td>2</td>\n",
       "      <td>16.0</td>\n",
       "      <td>3200</td>\n",
       "      <td>16.0</td>\n",
       "      <td>102.49</td>\n",
       "    </tr>\n",
       "    <tr>\n",
       "      <th>3</th>\n",
       "      <td>Corsair Vengeance RGB Pro 16 GB</td>\n",
       "      <td>DDR4</td>\n",
       "      <td>288-pin DIMM</td>\n",
       "      <td>2</td>\n",
       "      <td>16.0</td>\n",
       "      <td>3200</td>\n",
       "      <td>16.0</td>\n",
       "      <td>104.19</td>\n",
       "    </tr>\n",
       "    <tr>\n",
       "      <th>4</th>\n",
       "      <td>Corsair Vengeance RGB Pro 32 GB</td>\n",
       "      <td>DDR4</td>\n",
       "      <td>288-pin DIMM</td>\n",
       "      <td>2</td>\n",
       "      <td>32.0</td>\n",
       "      <td>3200</td>\n",
       "      <td>16.0</td>\n",
       "      <td>181.29</td>\n",
       "    </tr>\n",
       "  </tbody>\n",
       "</table>\n",
       "</div>"
      ],
      "text/plain": [
       "                              name  kind          type  amount  total_gb  \\\n",
       "0      Corsair Vengeance LPX 16 GB  DDR4  288-pin DIMM       2      16.0   \n",
       "1      Corsair Vengeance LPX 16 GB  DDR4  288-pin DIMM       2      16.0   \n",
       "2      G.Skill Trident Z RGB 16 GB  DDR4  288-pin DIMM       2      16.0   \n",
       "3  Corsair Vengeance RGB Pro 16 GB  DDR4  288-pin DIMM       2      16.0   \n",
       "4  Corsair Vengeance RGB Pro 32 GB  DDR4  288-pin DIMM       2      32.0   \n",
       "\n",
       "   speed  cas_latency   price  \n",
       "0   3000         15.0   88.88  \n",
       "1   3200         16.0   90.08  \n",
       "2   3200         16.0  102.49  \n",
       "3   3200         16.0  104.19  \n",
       "4   3200         16.0  181.29  "
      ]
     },
     "execution_count": 9,
     "metadata": {},
     "output_type": "execute_result"
    }
   ],
   "source": [
    "df = mem[['name', 'kind', 'type', 'amount', 'total_gb', 'speed', 'cas_latency', 'price']]\n",
    "df.head()"
   ]
  },
  {
   "cell_type": "markdown",
   "id": "7e650a12",
   "metadata": {},
   "source": [
    "<span style=\"color:mediumblue\">\n",
    "Описание итогового датасета:<br>\n",
    "&nbsp;&nbsp;&nbsp;&nbsp; <i>name</i> - Название<br>\n",
    "&nbsp;&nbsp;&nbsp;&nbsp; <i>kind</i> - Вид памяти<br>\n",
    "&nbsp;&nbsp;&nbsp;&nbsp; <i>type</i> - Тим памяти<br>    \n",
    "&nbsp;&nbsp;&nbsp;&nbsp; <i>amount</i> - Кол-во плашек в комплекте<br>\n",
    "&nbsp;&nbsp;&nbsp;&nbsp; <i>total_gb</i> - Всего гигабайт в комплекте<br>\n",
    "&nbsp;&nbsp;&nbsp;&nbsp; <i>speed</i> - Скорость памяти (MHz)<br>\n",
    "&nbsp;&nbsp;&nbsp;&nbsp; <i>cas_latency</i> - Тайминги ОЗУ (ns / наносекунды)<br>\n",
    "&nbsp;&nbsp;&nbsp;&nbsp; <i>price</i> - Цена (USD)\n",
    "</span>"
   ]
  },
  {
   "cell_type": "code",
   "execution_count": 10,
   "id": "137f29f4",
   "metadata": {},
   "outputs": [
    {
     "data": {
      "text/plain": [
       "name            object\n",
       "kind            object\n",
       "type            object\n",
       "amount           int64\n",
       "total_gb       float64\n",
       "speed            int64\n",
       "cas_latency    float64\n",
       "price          float64\n",
       "dtype: object"
      ]
     },
     "execution_count": 10,
     "metadata": {},
     "output_type": "execute_result"
    }
   ],
   "source": [
    "df.dtypes  # Получившиеся типы"
   ]
  },
  {
   "cell_type": "code",
   "execution_count": 11,
   "id": "2fffd20b",
   "metadata": {},
   "outputs": [
    {
     "data": {
      "text/html": [
       "<div>\n",
       "<style scoped>\n",
       "    .dataframe tbody tr th:only-of-type {\n",
       "        vertical-align: middle;\n",
       "    }\n",
       "\n",
       "    .dataframe tbody tr th {\n",
       "        vertical-align: top;\n",
       "    }\n",
       "\n",
       "    .dataframe thead th {\n",
       "        text-align: right;\n",
       "    }\n",
       "</style>\n",
       "<table border=\"1\" class=\"dataframe\">\n",
       "  <thead>\n",
       "    <tr style=\"text-align: right;\">\n",
       "      <th></th>\n",
       "      <th>amount</th>\n",
       "      <th>total_gb</th>\n",
       "      <th>speed</th>\n",
       "      <th>cas_latency</th>\n",
       "      <th>price</th>\n",
       "    </tr>\n",
       "  </thead>\n",
       "  <tbody>\n",
       "    <tr>\n",
       "      <th>count</th>\n",
       "      <td>7151.000000</td>\n",
       "      <td>7151.000000</td>\n",
       "      <td>7151.000000</td>\n",
       "      <td>7147.000000</td>\n",
       "      <td>2338.000000</td>\n",
       "    </tr>\n",
       "    <tr>\n",
       "      <th>mean</th>\n",
       "      <td>2.391693</td>\n",
       "      <td>17.750315</td>\n",
       "      <td>2233.699622</td>\n",
       "      <td>12.331608</td>\n",
       "      <td>180.463221</td>\n",
       "    </tr>\n",
       "    <tr>\n",
       "      <th>std</th>\n",
       "      <td>1.376520</td>\n",
       "      <td>19.088621</td>\n",
       "      <td>786.283857</td>\n",
       "      <td>3.704788</td>\n",
       "      <td>225.044685</td>\n",
       "    </tr>\n",
       "    <tr>\n",
       "      <th>min</th>\n",
       "      <td>1.000000</td>\n",
       "      <td>0.500000</td>\n",
       "      <td>333.000000</td>\n",
       "      <td>3.000000</td>\n",
       "      <td>7.990000</td>\n",
       "    </tr>\n",
       "    <tr>\n",
       "      <th>25%</th>\n",
       "      <td>2.000000</td>\n",
       "      <td>8.000000</td>\n",
       "      <td>1600.000000</td>\n",
       "      <td>9.000000</td>\n",
       "      <td>55.190000</td>\n",
       "    </tr>\n",
       "    <tr>\n",
       "      <th>50%</th>\n",
       "      <td>2.000000</td>\n",
       "      <td>16.000000</td>\n",
       "      <td>2133.000000</td>\n",
       "      <td>11.000000</td>\n",
       "      <td>103.735000</td>\n",
       "    </tr>\n",
       "    <tr>\n",
       "      <th>75%</th>\n",
       "      <td>3.000000</td>\n",
       "      <td>16.000000</td>\n",
       "      <td>2800.000000</td>\n",
       "      <td>16.000000</td>\n",
       "      <td>210.912500</td>\n",
       "    </tr>\n",
       "    <tr>\n",
       "      <th>max</th>\n",
       "      <td>8.000000</td>\n",
       "      <td>256.000000</td>\n",
       "      <td>5000.000000</td>\n",
       "      <td>22.000000</td>\n",
       "      <td>2824.550000</td>\n",
       "    </tr>\n",
       "  </tbody>\n",
       "</table>\n",
       "</div>"
      ],
      "text/plain": [
       "            amount     total_gb        speed  cas_latency        price\n",
       "count  7151.000000  7151.000000  7151.000000  7147.000000  2338.000000\n",
       "mean      2.391693    17.750315  2233.699622    12.331608   180.463221\n",
       "std       1.376520    19.088621   786.283857     3.704788   225.044685\n",
       "min       1.000000     0.500000   333.000000     3.000000     7.990000\n",
       "25%       2.000000     8.000000  1600.000000     9.000000    55.190000\n",
       "50%       2.000000    16.000000  2133.000000    11.000000   103.735000\n",
       "75%       3.000000    16.000000  2800.000000    16.000000   210.912500\n",
       "max       8.000000   256.000000  5000.000000    22.000000  2824.550000"
      ]
     },
     "execution_count": 11,
     "metadata": {},
     "output_type": "execute_result"
    }
   ],
   "source": [
    "df.describe()  # Краткая сводка по числовым характеристикам"
   ]
  },
  {
   "cell_type": "markdown",
   "id": "810873a0",
   "metadata": {},
   "source": [
    "<span style=\"color:mediumblue\">\n",
    "Далее создаю несколько групп графиков для визуального анализа данных.\n",
    "</span>"
   ]
  },
  {
   "cell_type": "code",
   "execution_count": 12,
   "id": "c52a82c3",
   "metadata": {},
   "outputs": [
    {
     "data": {
      "image/png": "[encoded data removed]",
      "text/plain": [
       "<Figure size 1400x1600 with 8 Axes>"
      ]
     },
     "metadata": {},
     "output_type": "display_data"
    }
   ],
   "source": [
    "fig, ax = plt.subplots(nrows=4, ncols=2, figsize=(14, 16))  # Определение фигуры\n",
    "\n",
    "sns.histplot(data=df[df.price<=1000], x='price', ax=ax[0, 0])  # Отрисовки графиков\n",
    "sns.histplot(data=df, x='cas_latency', ax=ax[0, 1])\n",
    "sns.histplot(data=df[df.price<=1000], x='total_gb', ax=ax[1, 0]) \n",
    "# Некоторые значения немного подрезаю, чтобы опрятнее смотрелось на графике\n",
    "sns.histplot(data=df, x='amount', ax=ax[1, 1])\n",
    "sns.histplot(data=df, x='type', ax=ax[2, 0]).set_xticklabels(df.type.unique(), rotation=15)\n",
    "sns.histplot(data=df, x='kind', ax=ax[2, 1])\n",
    "sns.histplot(data=df, x='speed', ax=ax[3, 0])\n",
    "\n",
    "plt.suptitle('Распределения признаков', fontsize=30, y=1)  # Вывод заголовка\n",
    "plt.tight_layout()"
   ]
  },
  {
   "cell_type": "markdown",
   "id": "bf2d1443",
   "metadata": {},
   "source": [
    "<span style=\"color:mediumblue\">\n",
    "Судя по графикам выше можно сказать, что:<br>\n",
    "    1. Больше всего комплектов с ценой в районе 50 USD<br>\n",
    "    2. Самые частовстречающиеся тайминги - это 9 и 16<br>\n",
    "    3. Чаще всего встречаются комплекты на 16 гб, и чуть реже на 8 и 32 гб<br>\n",
    "    4. Самое частое кол-во плашек в наборе - 2\n",
    "    5. 288 и 240 -pin dim сильно лидируют по количеству среди остальных типов\n",
    "    6. DDR3 встречается чуть чаще, чем DDR4 в то время, как DDR2 очень редка по сравнению с ними\n",
    "    7. Больше всего плашек со скоростью 1600+-100 MHz, но, в остальном, распределение выглядит нормальным\n",
    "</span>"
   ]
  },
  {
   "cell_type": "code",
   "execution_count": 13,
   "id": "58acd550",
   "metadata": {},
   "outputs": [
    {
     "data": {
      "image/png": "[encoded data removed]",
      "text/plain": [
       "<Figure size 800x600 with 2 Axes>"
      ]
     },
     "metadata": {},
     "output_type": "display_data"
    }
   ],
   "source": [
    "fig, ax = plt.subplots(figsize=(8, 6))\n",
    "\n",
    "sns.heatmap(df.corr(), annot=True)  # Тепловая карта\n",
    "\n",
    "plt.suptitle('Матрица корреляции', fontsize=20, y=1)\n",
    "plt.tight_layout()"
   ]
  },
  {
   "cell_type": "markdown",
   "id": "1519706f",
   "metadata": {},
   "source": [
    "<span style=\"color:mediumblue\">\n",
    "По матрице корреляции можем сделать вывод, что, к сожалению, датасет не обладает большим количеством хорошо-коррелированных фичей. Но попытаться построить модели регрессии все же можно.\n",
    "</span>"
   ]
  },
  {
   "cell_type": "code",
   "execution_count": 14,
   "id": "e14828a3",
   "metadata": {},
   "outputs": [
    {
     "data": {
      "image/png": "[encoded data removed]",
      "text/plain": [
       "<Figure size 1400x1200 with 6 Axes>"
      ]
     },
     "metadata": {},
     "output_type": "display_data"
    }
   ],
   "source": [
    "fig, ax = plt.subplots(nrows=3, ncols=2, figsize=(14, 12))\n",
    "\n",
    "sns.histplot(data=df[df.price<=500], x='price', hue='kind', multiple='stack', bins=45, ax=ax[0, 0])\n",
    "#sns.violinplot(data=df[df.price<=300], x='kind', y='price', ax=ax[0, 0])\n",
    "sns.histplot(data=df[df.price<=500], x='price', hue='type', multiple='stack', bins=45, ax=ax[0, 1])\n",
    "#sns.violinplot(data=df[df.price<=300], x='type', y='price', ax=ax[0, 1])\n",
    "sns.histplot(data=df[df['price']<=500], x='price', hue='amount', multiple='stack', bins=45, ax=ax[1, 0])\n",
    "#sns.violinplot(data=df[df.price<=500], x='amount', y='price', ax=ax[1, 0])\n",
    "sns.stripplot(data=df, x='total_gb', y='price', ax=ax[1, 1])\n",
    "sns.scatterplot(data=df, x='speed', y='price', ax=ax[2, 0])\n",
    "sns.stripplot(data=df, x='cas_latency', y='price', ax=ax[2, 1])\n",
    "\n",
    "plt.suptitle('Коррелограммы и совместные распределения', fontsize=30, y=1)\n",
    "plt.tight_layout()"
   ]
  },
  {
   "cell_type": "markdown",
   "id": "db978770",
   "metadata": {},
   "source": [
    "<span style=\"color:mediumblue\">\n",
    "Линейных связей не наблюдается, зато присутсвуют схожие тренды для распределений.\n",
    "</span>"
   ]
  },
  {
   "cell_type": "markdown",
   "id": "4a343d08",
   "metadata": {},
   "source": [
    "## Очистка данных"
   ]
  },
  {
   "cell_type": "code",
   "execution_count": 16,
   "id": "b9c377d7",
   "metadata": {},
   "outputs": [
    {
     "data": {
      "text/plain": [
       "((7151, 8), (2338, 8), (2335, 8))"
      ]
     },
     "execution_count": 16,
     "metadata": {},
     "output_type": "execute_result"
    }
   ],
   "source": [
    "df.shape, df.dropna(subset='price').shape, df2.shape"
   ]
  },
  {
   "cell_type": "markdown",
   "id": "4d81ed14",
   "metadata": {},
   "source": [
    "<span style=\"color:mediumblue\">\n",
    "После сравнения потерь от удаления nan только в столбце price и по всему датасету я принял решение удалить nan во всех столбцах, т.к. разница получается всего в 3 строки, зато так мы получаем абсолютно чистые данные в смысле пропусков.\n",
    "</span>"
   ]
  },
  {
   "cell_type": "code",
   "execution_count": 15,
   "id": "7bf7b39d",
   "metadata": {},
   "outputs": [
    {
     "data": {
      "text/html": [
       "<div>\n",
       "<style scoped>\n",
       "    .dataframe tbody tr th:only-of-type {\n",
       "        vertical-align: middle;\n",
       "    }\n",
       "\n",
       "    .dataframe tbody tr th {\n",
       "        vertical-align: top;\n",
       "    }\n",
       "\n",
       "    .dataframe thead th {\n",
       "        text-align: right;\n",
       "    }\n",
       "</style>\n",
       "<table border=\"1\" class=\"dataframe\">\n",
       "  <thead>\n",
       "    <tr style=\"text-align: right;\">\n",
       "      <th></th>\n",
       "      <th>name</th>\n",
       "      <th>kind</th>\n",
       "      <th>type</th>\n",
       "      <th>amount</th>\n",
       "      <th>total_gb</th>\n",
       "      <th>speed</th>\n",
       "      <th>cas_latency</th>\n",
       "      <th>price</th>\n",
       "    </tr>\n",
       "  </thead>\n",
       "  <tbody>\n",
       "    <tr>\n",
       "      <th>0</th>\n",
       "      <td>Corsair Vengeance LPX 16 GB</td>\n",
       "      <td>DDR4</td>\n",
       "      <td>288-pin DIMM</td>\n",
       "      <td>2</td>\n",
       "      <td>16.0</td>\n",
       "      <td>3000</td>\n",
       "      <td>15.0</td>\n",
       "      <td>88.88</td>\n",
       "    </tr>\n",
       "    <tr>\n",
       "      <th>1</th>\n",
       "      <td>Corsair Vengeance LPX 16 GB</td>\n",
       "      <td>DDR4</td>\n",
       "      <td>288-pin DIMM</td>\n",
       "      <td>2</td>\n",
       "      <td>16.0</td>\n",
       "      <td>3200</td>\n",
       "      <td>16.0</td>\n",
       "      <td>90.08</td>\n",
       "    </tr>\n",
       "    <tr>\n",
       "      <th>2</th>\n",
       "      <td>G.Skill Trident Z RGB 16 GB</td>\n",
       "      <td>DDR4</td>\n",
       "      <td>288-pin DIMM</td>\n",
       "      <td>2</td>\n",
       "      <td>16.0</td>\n",
       "      <td>3200</td>\n",
       "      <td>16.0</td>\n",
       "      <td>102.49</td>\n",
       "    </tr>\n",
       "    <tr>\n",
       "      <th>3</th>\n",
       "      <td>Corsair Vengeance RGB Pro 16 GB</td>\n",
       "      <td>DDR4</td>\n",
       "      <td>288-pin DIMM</td>\n",
       "      <td>2</td>\n",
       "      <td>16.0</td>\n",
       "      <td>3200</td>\n",
       "      <td>16.0</td>\n",
       "      <td>104.19</td>\n",
       "    </tr>\n",
       "    <tr>\n",
       "      <th>4</th>\n",
       "      <td>Corsair Vengeance RGB Pro 32 GB</td>\n",
       "      <td>DDR4</td>\n",
       "      <td>288-pin DIMM</td>\n",
       "      <td>2</td>\n",
       "      <td>32.0</td>\n",
       "      <td>3200</td>\n",
       "      <td>16.0</td>\n",
       "      <td>181.29</td>\n",
       "    </tr>\n",
       "    <tr>\n",
       "      <th>...</th>\n",
       "      <td>...</td>\n",
       "      <td>...</td>\n",
       "      <td>...</td>\n",
       "      <td>...</td>\n",
       "      <td>...</td>\n",
       "      <td>...</td>\n",
       "      <td>...</td>\n",
       "      <td>...</td>\n",
       "    </tr>\n",
       "    <tr>\n",
       "      <th>7110</th>\n",
       "      <td>Kingston KVR16R11S4/8 8 GB</td>\n",
       "      <td>DDR3</td>\n",
       "      <td>240-pin DIMM</td>\n",
       "      <td>1</td>\n",
       "      <td>8.0</td>\n",
       "      <td>1600</td>\n",
       "      <td>11.0</td>\n",
       "      <td>81.18</td>\n",
       "    </tr>\n",
       "    <tr>\n",
       "      <th>7113</th>\n",
       "      <td>Kingston KVR16R11S4K4/32 32 GB</td>\n",
       "      <td>DDR3</td>\n",
       "      <td>240-pin DIMM</td>\n",
       "      <td>4</td>\n",
       "      <td>32.0</td>\n",
       "      <td>1600</td>\n",
       "      <td>11.0</td>\n",
       "      <td>536.68</td>\n",
       "    </tr>\n",
       "    <tr>\n",
       "      <th>7115</th>\n",
       "      <td>Kingston KVR16R11S4K3/24 24 GB</td>\n",
       "      <td>DDR3</td>\n",
       "      <td>240-pin DIMM</td>\n",
       "      <td>3</td>\n",
       "      <td>24.0</td>\n",
       "      <td>1600</td>\n",
       "      <td>11.0</td>\n",
       "      <td>349.18</td>\n",
       "    </tr>\n",
       "    <tr>\n",
       "      <th>7117</th>\n",
       "      <td>Kingston KVR18R13D4K3/48 48 GB</td>\n",
       "      <td>DDR3</td>\n",
       "      <td>240-pin DIMM</td>\n",
       "      <td>3</td>\n",
       "      <td>48.0</td>\n",
       "      <td>1866</td>\n",
       "      <td>13.0</td>\n",
       "      <td>772.98</td>\n",
       "    </tr>\n",
       "    <tr>\n",
       "      <th>7132</th>\n",
       "      <td>Kingston KTD-PE316LLQ/32G 32 GB</td>\n",
       "      <td>DDR3</td>\n",
       "      <td>240-pin DIMM</td>\n",
       "      <td>1</td>\n",
       "      <td>32.0</td>\n",
       "      <td>1600</td>\n",
       "      <td>11.0</td>\n",
       "      <td>208.47</td>\n",
       "    </tr>\n",
       "  </tbody>\n",
       "</table>\n",
       "<p>2335 rows × 8 columns</p>\n",
       "</div>"
      ],
      "text/plain": [
       "                                 name  kind          type  amount  total_gb  \\\n",
       "0         Corsair Vengeance LPX 16 GB  DDR4  288-pin DIMM       2      16.0   \n",
       "1         Corsair Vengeance LPX 16 GB  DDR4  288-pin DIMM       2      16.0   \n",
       "2         G.Skill Trident Z RGB 16 GB  DDR4  288-pin DIMM       2      16.0   \n",
       "3     Corsair Vengeance RGB Pro 16 GB  DDR4  288-pin DIMM       2      16.0   \n",
       "4     Corsair Vengeance RGB Pro 32 GB  DDR4  288-pin DIMM       2      32.0   \n",
       "...                               ...   ...           ...     ...       ...   \n",
       "7110       Kingston KVR16R11S4/8 8 GB  DDR3  240-pin DIMM       1       8.0   \n",
       "7113   Kingston KVR16R11S4K4/32 32 GB  DDR3  240-pin DIMM       4      32.0   \n",
       "7115   Kingston KVR16R11S4K3/24 24 GB  DDR3  240-pin DIMM       3      24.0   \n",
       "7117   Kingston KVR18R13D4K3/48 48 GB  DDR3  240-pin DIMM       3      48.0   \n",
       "7132  Kingston KTD-PE316LLQ/32G 32 GB  DDR3  240-pin DIMM       1      32.0   \n",
       "\n",
       "      speed  cas_latency   price  \n",
       "0      3000         15.0   88.88  \n",
       "1      3200         16.0   90.08  \n",
       "2      3200         16.0  102.49  \n",
       "3      3200         16.0  104.19  \n",
       "4      3200         16.0  181.29  \n",
       "...     ...          ...     ...  \n",
       "7110   1600         11.0   81.18  \n",
       "7113   1600         11.0  536.68  \n",
       "7115   1600         11.0  349.18  \n",
       "7117   1866         13.0  772.98  \n",
       "7132   1600         11.0  208.47  \n",
       "\n",
       "[2335 rows x 8 columns]"
      ]
     },
     "execution_count": 15,
     "metadata": {},
     "output_type": "execute_result"
    }
   ],
   "source": [
    "df2 = df.dropna()  # Удаление строк, содержащих nan из датасета\n",
    "df2"
   ]
  },
  {
   "cell_type": "markdown",
   "id": "32f22f25",
   "metadata": {},
   "source": [
    "<span style=\"color:mediumblue\">\n",
    "Итого получается датасет объемом в 2335 сэмплов и 7 фичей (1 столбец целевой).\n",
    "</span>"
   ]
  },
  {
   "cell_type": "markdown",
   "id": "4a74fdd0",
   "metadata": {},
   "source": [
    "## Кодирование фичей"
   ]
  },
  {
   "cell_type": "code",
   "execution_count": 17,
   "id": "780956fb",
   "metadata": {},
   "outputs": [],
   "source": [
    "y = df2['price']\n",
    "X = pd.get_dummies(df2.drop(['price', 'name'], axis=1), columns=['kind', 'type'])"
   ]
  },
  {
   "cell_type": "markdown",
   "id": "db295457",
   "metadata": {},
   "source": [
    "<span style=\"color:mediumblue\">\n",
    "Большинство моделей линейной регресии не поддерживают категориальные (текстовые) фичи, поэтому необходимо произвести энокдинг. Я выбрал OneHotEncoding как один из самых простых методов. Т.к. необходимо закодировать всего 2 столбца и в каждом не много уникальных значений, такой алгоритм кодирования вполне подходит.\n",
    "</span>"
   ]
  },
  {
   "cell_type": "code",
   "execution_count": 18,
   "id": "774a49ce",
   "metadata": {},
   "outputs": [
    {
     "data": {
      "text/html": [
       "<div>\n",
       "<style scoped>\n",
       "    .dataframe tbody tr th:only-of-type {\n",
       "        vertical-align: middle;\n",
       "    }\n",
       "\n",
       "    .dataframe tbody tr th {\n",
       "        vertical-align: top;\n",
       "    }\n",
       "\n",
       "    .dataframe thead th {\n",
       "        text-align: right;\n",
       "    }\n",
       "</style>\n",
       "<table border=\"1\" class=\"dataframe\">\n",
       "  <thead>\n",
       "    <tr style=\"text-align: right;\">\n",
       "      <th></th>\n",
       "      <th>amount</th>\n",
       "      <th>total_gb</th>\n",
       "      <th>speed</th>\n",
       "      <th>cas_latency</th>\n",
       "      <th>kind_DDR2</th>\n",
       "      <th>kind_DDR3</th>\n",
       "      <th>kind_DDR4</th>\n",
       "      <th>type_200-pin SODIMM</th>\n",
       "      <th>type_204-pin SODIMM</th>\n",
       "      <th>type_240-pin DIMM</th>\n",
       "      <th>type_260-pin SODIMM</th>\n",
       "      <th>type_288-pin DIMM</th>\n",
       "    </tr>\n",
       "  </thead>\n",
       "  <tbody>\n",
       "    <tr>\n",
       "      <th>0</th>\n",
       "      <td>2</td>\n",
       "      <td>16.0</td>\n",
       "      <td>3000</td>\n",
       "      <td>15.0</td>\n",
       "      <td>0</td>\n",
       "      <td>0</td>\n",
       "      <td>1</td>\n",
       "      <td>0</td>\n",
       "      <td>0</td>\n",
       "      <td>0</td>\n",
       "      <td>0</td>\n",
       "      <td>1</td>\n",
       "    </tr>\n",
       "    <tr>\n",
       "      <th>1</th>\n",
       "      <td>2</td>\n",
       "      <td>16.0</td>\n",
       "      <td>3200</td>\n",
       "      <td>16.0</td>\n",
       "      <td>0</td>\n",
       "      <td>0</td>\n",
       "      <td>1</td>\n",
       "      <td>0</td>\n",
       "      <td>0</td>\n",
       "      <td>0</td>\n",
       "      <td>0</td>\n",
       "      <td>1</td>\n",
       "    </tr>\n",
       "    <tr>\n",
       "      <th>2</th>\n",
       "      <td>2</td>\n",
       "      <td>16.0</td>\n",
       "      <td>3200</td>\n",
       "      <td>16.0</td>\n",
       "      <td>0</td>\n",
       "      <td>0</td>\n",
       "      <td>1</td>\n",
       "      <td>0</td>\n",
       "      <td>0</td>\n",
       "      <td>0</td>\n",
       "      <td>0</td>\n",
       "      <td>1</td>\n",
       "    </tr>\n",
       "    <tr>\n",
       "      <th>3</th>\n",
       "      <td>2</td>\n",
       "      <td>16.0</td>\n",
       "      <td>3200</td>\n",
       "      <td>16.0</td>\n",
       "      <td>0</td>\n",
       "      <td>0</td>\n",
       "      <td>1</td>\n",
       "      <td>0</td>\n",
       "      <td>0</td>\n",
       "      <td>0</td>\n",
       "      <td>0</td>\n",
       "      <td>1</td>\n",
       "    </tr>\n",
       "    <tr>\n",
       "      <th>4</th>\n",
       "      <td>2</td>\n",
       "      <td>32.0</td>\n",
       "      <td>3200</td>\n",
       "      <td>16.0</td>\n",
       "      <td>0</td>\n",
       "      <td>0</td>\n",
       "      <td>1</td>\n",
       "      <td>0</td>\n",
       "      <td>0</td>\n",
       "      <td>0</td>\n",
       "      <td>0</td>\n",
       "      <td>1</td>\n",
       "    </tr>\n",
       "    <tr>\n",
       "      <th>...</th>\n",
       "      <td>...</td>\n",
       "      <td>...</td>\n",
       "      <td>...</td>\n",
       "      <td>...</td>\n",
       "      <td>...</td>\n",
       "      <td>...</td>\n",
       "      <td>...</td>\n",
       "      <td>...</td>\n",
       "      <td>...</td>\n",
       "      <td>...</td>\n",
       "      <td>...</td>\n",
       "      <td>...</td>\n",
       "    </tr>\n",
       "    <tr>\n",
       "      <th>7110</th>\n",
       "      <td>1</td>\n",
       "      <td>8.0</td>\n",
       "      <td>1600</td>\n",
       "      <td>11.0</td>\n",
       "      <td>0</td>\n",
       "      <td>1</td>\n",
       "      <td>0</td>\n",
       "      <td>0</td>\n",
       "      <td>0</td>\n",
       "      <td>1</td>\n",
       "      <td>0</td>\n",
       "      <td>0</td>\n",
       "    </tr>\n",
       "    <tr>\n",
       "      <th>7113</th>\n",
       "      <td>4</td>\n",
       "      <td>32.0</td>\n",
       "      <td>1600</td>\n",
       "      <td>11.0</td>\n",
       "      <td>0</td>\n",
       "      <td>1</td>\n",
       "      <td>0</td>\n",
       "      <td>0</td>\n",
       "      <td>0</td>\n",
       "      <td>1</td>\n",
       "      <td>0</td>\n",
       "      <td>0</td>\n",
       "    </tr>\n",
       "    <tr>\n",
       "      <th>7115</th>\n",
       "      <td>3</td>\n",
       "      <td>24.0</td>\n",
       "      <td>1600</td>\n",
       "      <td>11.0</td>\n",
       "      <td>0</td>\n",
       "      <td>1</td>\n",
       "      <td>0</td>\n",
       "      <td>0</td>\n",
       "      <td>0</td>\n",
       "      <td>1</td>\n",
       "      <td>0</td>\n",
       "      <td>0</td>\n",
       "    </tr>\n",
       "    <tr>\n",
       "      <th>7117</th>\n",
       "      <td>3</td>\n",
       "      <td>48.0</td>\n",
       "      <td>1866</td>\n",
       "      <td>13.0</td>\n",
       "      <td>0</td>\n",
       "      <td>1</td>\n",
       "      <td>0</td>\n",
       "      <td>0</td>\n",
       "      <td>0</td>\n",
       "      <td>1</td>\n",
       "      <td>0</td>\n",
       "      <td>0</td>\n",
       "    </tr>\n",
       "    <tr>\n",
       "      <th>7132</th>\n",
       "      <td>1</td>\n",
       "      <td>32.0</td>\n",
       "      <td>1600</td>\n",
       "      <td>11.0</td>\n",
       "      <td>0</td>\n",
       "      <td>1</td>\n",
       "      <td>0</td>\n",
       "      <td>0</td>\n",
       "      <td>0</td>\n",
       "      <td>1</td>\n",
       "      <td>0</td>\n",
       "      <td>0</td>\n",
       "    </tr>\n",
       "  </tbody>\n",
       "</table>\n",
       "<p>2335 rows × 12 columns</p>\n",
       "</div>"
      ],
      "text/plain": [
       "      amount  total_gb  speed  cas_latency  kind_DDR2  kind_DDR3  kind_DDR4  \\\n",
       "0          2      16.0   3000         15.0          0          0          1   \n",
       "1          2      16.0   3200         16.0          0          0          1   \n",
       "2          2      16.0   3200         16.0          0          0          1   \n",
       "3          2      16.0   3200         16.0          0          0          1   \n",
       "4          2      32.0   3200         16.0          0          0          1   \n",
       "...      ...       ...    ...          ...        ...        ...        ...   \n",
       "7110       1       8.0   1600         11.0          0          1          0   \n",
       "7113       4      32.0   1600         11.0          0          1          0   \n",
       "7115       3      24.0   1600         11.0          0          1          0   \n",
       "7117       3      48.0   1866         13.0          0          1          0   \n",
       "7132       1      32.0   1600         11.0          0          1          0   \n",
       "\n",
       "      type_200-pin SODIMM  type_204-pin SODIMM  type_240-pin DIMM  \\\n",
       "0                       0                    0                  0   \n",
       "1                       0                    0                  0   \n",
       "2                       0                    0                  0   \n",
       "3                       0                    0                  0   \n",
       "4                       0                    0                  0   \n",
       "...                   ...                  ...                ...   \n",
       "7110                    0                    0                  1   \n",
       "7113                    0                    0                  1   \n",
       "7115                    0                    0                  1   \n",
       "7117                    0                    0                  1   \n",
       "7132                    0                    0                  1   \n",
       "\n",
       "      type_260-pin SODIMM  type_288-pin DIMM  \n",
       "0                       0                  1  \n",
       "1                       0                  1  \n",
       "2                       0                  1  \n",
       "3                       0                  1  \n",
       "4                       0                  1  \n",
       "...                   ...                ...  \n",
       "7110                    0                  0  \n",
       "7113                    0                  0  \n",
       "7115                    0                  0  \n",
       "7117                    0                  0  \n",
       "7132                    0                  0  \n",
       "\n",
       "[2335 rows x 12 columns]"
      ]
     },
     "execution_count": 18,
     "metadata": {},
     "output_type": "execute_result"
    }
   ],
   "source": [
    "X"
   ]
  },
  {
   "cell_type": "markdown",
   "id": "559bb81d",
   "metadata": {},
   "source": [
    "## Разбиение на выборки"
   ]
  },
  {
   "cell_type": "code",
   "execution_count": 70,
   "id": "a1b2eb38",
   "metadata": {},
   "outputs": [],
   "source": [
    "X_train, X_test, y_train, y_test = train_test_split(X, y, test_size=.2, random_state=42, shuffle=True)"
   ]
  },
  {
   "cell_type": "code",
   "execution_count": 71,
   "id": "07ac8ee6",
   "metadata": {},
   "outputs": [
    {
     "data": {
      "text/plain": [
       "((1868, 12), (467, 12), (1868,), (467,))"
      ]
     },
     "execution_count": 71,
     "metadata": {},
     "output_type": "execute_result"
    }
   ],
   "source": [
    "X_train.shape, X_test.shape, y_train.shape, y_test.shape"
   ]
  },
  {
   "cell_type": "markdown",
   "id": "98a791b6",
   "metadata": {},
   "source": [
    "<span style=\"color:mediumblue\">\n",
    "Разбиваю выборку на обучающую и тестовую для дальнейшего обучения и объективного анализа качества модели. Использую параметр <i>shuffle = True</i> для случайного премешивания семплов внутри выборки перед разбиением для того, чтобы гарантировать полноту (в плане уникальных семплов) как обучающей выборки, так и тестовой. Размер тестовой выборки я установил как 0.2 от всего датасета, т.к. этого будет достаточно для оценки качества модели и, при этом, бо&#769;льшая часть данных пойдет на обучение.\n",
    "</span>"
   ]
  },
  {
   "cell_type": "markdown",
   "id": "8bd0de0c",
   "metadata": {},
   "source": [
    "## Подбор модели"
   ]
  },
  {
   "cell_type": "markdown",
   "id": "86943349",
   "metadata": {},
   "source": [
    "<span style=\"color:mediumblue\">\n",
    "Далее следует большой блок, в котором я пробую различные модели линейной регрессии преимущественно из библиотеки sklearn и сравниваю их результаты по нескольким метрикам для выявления наилучшей модели. Я выбрал метрики R2 score, MAE и RMSE как основные и самые часто встречающиеся для задач регрессии в машинном обучении. Также я произвожу замеры времени обучения каждой модели для последующего сравнения.\n",
    "</span>"
   ]
  },
  {
   "cell_type": "markdown",
   "id": "328f27ce",
   "metadata": {},
   "source": [
    "<span style=\"color:mediumblue\">\n",
    "За основной показатель качества я, все таки, буду использовать метрику R2 score, т.к. она наиболее легко интерпретируема и широко распространена.\n",
    "</span>"
   ]
  },
  {
   "cell_type": "markdown",
   "id": "3bf02d68",
   "metadata": {},
   "source": [
    "### Линейная регрессия"
   ]
  },
  {
   "cell_type": "code",
   "execution_count": 72,
   "id": "d71af35f",
   "metadata": {},
   "outputs": [
    {
     "name": "stdout",
     "output_type": "stream",
     "text": [
      "R2 on train: 0.58\n",
      "R2 on test: 0.597\n",
      "RMSE on test: 145.001\n",
      "MAE on test: 82.955\n",
      "Wall time: 90.8 ms\n"
     ]
    }
   ],
   "source": [
    "%%time\n",
    "\n",
    "model = LinearRegression()  # Создание объекта модели\n",
    "\n",
    "model.fit(X_train, y_train)  # Обучение модели\n",
    "\n",
    "y_pred = model.predict(X_test)  # Предсказание на тестовой выборке\n",
    "\n",
    "print(f'R2 on train: {round(model.score(X_train, y_train), 3)}')  # R2 на обучающей выборке\n",
    "print(f'R2 on test: {round(model.score(X_test, y_test), 3)}')  # R2 на тестовой выборке\n",
    "print(f'RMSE on test: {round(mean_squared_error(y_test, y_pred, squared=False), 3)}')  # RMSE на тестовой выборке\n",
    "print(f'MAE on test: {round(mean_absolute_error(y_test, y_pred), 3)}')  # MAE на тестовой выборке"
   ]
  },
  {
   "cell_type": "markdown",
   "id": "74ee854f",
   "metadata": {},
   "source": [
    "<span style=\"color:mediumblue\">\n",
    "Далее я вывожу фичи и их коэффициенты для того, чтобы оценить значимость той или иной фичи.  \n",
    "</span>"
   ]
  },
  {
   "cell_type": "code",
   "execution_count": 15,
   "id": "4b655ca8",
   "metadata": {},
   "outputs": [
    {
     "data": {
      "text/plain": [
       "-237.09155733039663"
      ]
     },
     "execution_count": 15,
     "metadata": {},
     "output_type": "execute_result"
    }
   ],
   "source": [
    "model.intercept_  # Свободный коэффициент моедли"
   ]
  },
  {
   "cell_type": "code",
   "execution_count": 18,
   "id": "79f9f5ec",
   "metadata": {},
   "outputs": [
    {
     "name": "stdout",
     "output_type": "stream",
     "text": [
      "amount 51.29159564281311\n",
      "total_gb 4.417159071215946\n",
      "speed 0.10361962304758099\n",
      "cas_latency 1.630633566953771\n",
      "kind_DDR2 26.957866121315355\n",
      "kind_DDR3 -46.52481171835404\n",
      "kind_DDR4 19.566945597038742\n",
      "type_200-pin SODIMM 88.85175387077071\n",
      "type_204-pin SODIMM 70.16391316669464\n",
      "type_240-pin DIMM 100.16630527240302\n",
      "type_260-pin SODIMM -115.75843143509687\n",
      "type_288-pin DIMM -143.42354087477173\n"
     ]
    }
   ],
   "source": [
    "[print(name, coef) for name, coef in zip(model.feature_names_in_, model.coef_)];  # Фичи и их коэффициенты в модели"
   ]
  },
  {
   "cell_type": "markdown",
   "id": "df29637c",
   "metadata": {},
   "source": [
    "<span style=\"color:mediumblue\">\n",
    "Пока что просто запомним эту информацию, т.к. для полиномиальной регресии, например, будет затруднительно оценить коэффициенты фичей вследствие полиномиального кодирования. И следовательно для сравнения моделей коэффициенты не валидны.\n",
    "</span>"
   ]
  },
  {
   "cell_type": "markdown",
   "id": "648882ef",
   "metadata": {},
   "source": [
    "### Полиномиальная регрессия 3 степени"
   ]
  },
  {
   "cell_type": "code",
   "execution_count": 73,
   "id": "94e8fd84",
   "metadata": {},
   "outputs": [
    {
     "name": "stdout",
     "output_type": "stream",
     "text": [
      "R2 on train: 0.708\n",
      "R2 on test: 0.589\n",
      "RMSE on test: 146.365\n",
      "MAE on test: 75.923\n",
      "Wall time: 53.8 ms\n"
     ]
    }
   ],
   "source": [
    "%%time\n",
    "\n",
    "model = LinearRegression()\n",
    "pf = PolynomialFeatures(3)\n",
    "\n",
    "Poly_train = pf.fit_transform(X_train)  # Полиномиальное кодирование фичей\n",
    "Poly_test = pf.fit_transform(X_test)\n",
    "\n",
    "model.fit(Poly_train, y_train)\n",
    "\n",
    "y_pred = model.predict(Poly_test)\n",
    "\n",
    "print(f'R2 on train: {round(model.score(Poly_train, y_train), 3)}')\n",
    "print(f'R2 on test: {round(model.score(Poly_test, y_test), 3)}')\n",
    "print(f'RMSE on test: {round(mean_squared_error(y_test, y_pred, squared=False), 3)}')\n",
    "print(f'MAE on test: {round(mean_absolute_error(y_test, y_pred), 3)}')"
   ]
  },
  {
   "cell_type": "markdown",
   "id": "2695c3c1",
   "metadata": {},
   "source": [
    "### Полиномиальная регрессия 2 степени"
   ]
  },
  {
   "cell_type": "code",
   "execution_count": 74,
   "id": "4fe3cc9b",
   "metadata": {},
   "outputs": [
    {
     "name": "stdout",
     "output_type": "stream",
     "text": [
      "R2 on train: 0.659\n",
      "R2 on test: 0.654\n",
      "RMSE on test: 134.289\n",
      "MAE on test: 69.746\n",
      "Wall time: 16.9 ms\n"
     ]
    }
   ],
   "source": [
    "%%time\n",
    "\n",
    "model = LinearRegression()\n",
    "pf = PolynomialFeatures(2)\n",
    "\n",
    "Poly_train = pf.fit_transform(X_train)\n",
    "Poly_test = pf.fit_transform(X_test)\n",
    "\n",
    "model.fit(Poly_train, y_train)\n",
    "\n",
    "y_pred = model.predict(Poly_test)\n",
    "\n",
    "print(f'R2 on train: {round(model.score(Poly_train, y_train), 3)}')\n",
    "print(f'R2 on test: {round(model.score(Poly_test, y_test), 3)}')\n",
    "print(f'RMSE on test: {round(mean_squared_error(y_test, y_pred, squared=False), 3)}')\n",
    "print(f'MAE on test: {round(mean_absolute_error(y_test, y_pred), 3)}')"
   ]
  },
  {
   "cell_type": "markdown",
   "id": "0eb286d1",
   "metadata": {},
   "source": [
    "### Lasso регрессия"
   ]
  },
  {
   "cell_type": "code",
   "execution_count": 75,
   "id": "2e82e40c",
   "metadata": {},
   "outputs": [
    {
     "name": "stdout",
     "output_type": "stream",
     "text": [
      "R2 on train: 0.577\n",
      "R2 on test: 0.597\n",
      "RMSE on test: 144.92\n",
      "MAE on test: 82.633\n",
      "Wall time: 7.98 ms\n"
     ]
    }
   ],
   "source": [
    "%%time\n",
    "\n",
    "model = Lasso()\n",
    "\n",
    "model.fit(X_train, y_train)\n",
    "\n",
    "y_pred = model.predict(X_test)\n",
    "\n",
    "print(f'R2 on train: {round(model.score(X_train, y_train), 3)}')\n",
    "print(f'R2 on test: {round(model.score(X_test, y_test), 3)}')\n",
    "print(f'RMSE on test: {round(mean_squared_error(y_test, y_pred, squared=False), 3)}')\n",
    "print(f'MAE on test: {round(mean_absolute_error(y_test, y_pred), 3)}')"
   ]
  },
  {
   "cell_type": "markdown",
   "id": "a93e5366",
   "metadata": {},
   "source": [
    "### Ridge регрессия"
   ]
  },
  {
   "cell_type": "code",
   "execution_count": 76,
   "id": "5fc539ea",
   "metadata": {},
   "outputs": [
    {
     "name": "stdout",
     "output_type": "stream",
     "text": [
      "R2 on train: 0.58\n",
      "R2 on test: 0.597\n",
      "RMSE on test: 144.961\n",
      "MAE on test: 82.884\n",
      "Wall time: 16.9 ms\n"
     ]
    }
   ],
   "source": [
    "%%time\n",
    "\n",
    "model = Ridge()\n",
    "\n",
    "model.fit(X_train, y_train)\n",
    "\n",
    "y_pred = model.predict(X_test)\n",
    "\n",
    "print(f'R2 on train: {round(model.score(X_train, y_train), 3)}')\n",
    "print(f'R2 on test: {round(model.score(X_test, y_test), 3)}')\n",
    "print(f'RMSE on test: {round(mean_squared_error(y_test, y_pred, squared=False), 3)}')\n",
    "print(f'MAE on test: {round(mean_absolute_error(y_test, y_pred), 3)}')"
   ]
  },
  {
   "cell_type": "markdown",
   "id": "afbf7a69",
   "metadata": {},
   "source": [
    "### ElasticNet регрессия"
   ]
  },
  {
   "cell_type": "code",
   "execution_count": 77,
   "id": "fca7ebe0",
   "metadata": {},
   "outputs": [
    {
     "name": "stdout",
     "output_type": "stream",
     "text": [
      "R2 on train: 0.56\n",
      "R2 on test: 0.589\n",
      "RMSE on test: 146.359\n",
      "MAE on test: 80.572\n",
      "Wall time: 5.98 ms\n"
     ]
    }
   ],
   "source": [
    "%%time\n",
    "\n",
    "model = ElasticNet()\n",
    "\n",
    "model.fit(X_train, y_train)\n",
    "\n",
    "y_pred = model.predict(X_test)\n",
    "\n",
    "print(f'R2 on train: {round(model.score(X_train, y_train), 3)}')\n",
    "print(f'R2 on test: {round(model.score(X_test, y_test), 3)}')\n",
    "print(f'RMSE on test: {round(mean_squared_error(y_test, y_pred, squared=False), 3)}')\n",
    "print(f'MAE on test: {round(mean_absolute_error(y_test, y_pred), 3)}')"
   ]
  },
  {
   "cell_type": "markdown",
   "id": "279ab365",
   "metadata": {},
   "source": [
    "### MLP регрессия"
   ]
  },
  {
   "cell_type": "code",
   "execution_count": 78,
   "id": "5691549b",
   "metadata": {},
   "outputs": [
    {
     "name": "stdout",
     "output_type": "stream",
     "text": [
      "R2 on train: 0.535\n",
      "R2 on test: 0.548\n",
      "RMSE on test: 153.565\n",
      "MAE on test: 78.867\n",
      "Wall time: 1.09 s\n"
     ]
    }
   ],
   "source": [
    "%%time\n",
    "\n",
    "model = MLPRegressor()\n",
    "\n",
    "model.fit(X_train, y_train)\n",
    "\n",
    "y_pred = model.predict(X_test)\n",
    "\n",
    "print(f'R2 on train: {round(model.score(X_train, y_train), 3)}')\n",
    "print(f'R2 on test: {round(model.score(X_test, y_test), 3)}')\n",
    "print(f'RMSE on test: {round(mean_squared_error(y_test, y_pred, squared=False), 3)}')\n",
    "print(f'MAE on test: {round(mean_absolute_error(y_test, y_pred), 3)}')"
   ]
  },
  {
   "cell_type": "markdown",
   "id": "97b97615",
   "metadata": {},
   "source": [
    "<span style=\"color:mediumblue\">\n",
    "Подводя итог блока, можно заметить, что наилучший резльтат метрики R2 на тестовой выборке показала модель полиномиальной регрессии 2 степени. Но это только промежуточный резльтат, далее погружусь в более \"тяжелые\" алгоритмы.\n",
    "</span>"
   ]
  },
  {
   "cell_type": "markdown",
   "id": "5aa888b4",
   "metadata": {},
   "source": [
    "## Gradient Boosting и Grid Search"
   ]
  },
  {
   "cell_type": "markdown",
   "id": "61fd810e",
   "metadata": {},
   "source": [
    "<span style=\"color:mediumblue\">\n",
    "В блоке ниже я попробую несколько алгоритмов градиентного бустинга для превосхождения результатов моделей выше. Я сделал упор именно на модели бустинга, т.к. этот алгоритм считается одним из самых эффективных для задач регресии на табличных данных.\n",
    "</span>"
   ]
  },
  {
   "cell_type": "markdown",
   "id": "dac68b4b",
   "metadata": {},
   "source": [
    "<span style=\"color:mediumblue\">\n",
    "Также в дополнение я буду использовать алгоритм Grid Search, который позволяет путем перебора всех комбинаций заданных параметров подобрать оптимальные параметры модели для достижения наилучшего результата.\n",
    "</span>"
   ]
  },
  {
   "cell_type": "markdown",
   "id": "56e9bacc",
   "metadata": {},
   "source": [
    "### XGB регрессия с кодированными фичами"
   ]
  },
  {
   "cell_type": "code",
   "execution_count": 25,
   "id": "0f7c9e54",
   "metadata": {},
   "outputs": [
    {
     "name": "stdout",
     "output_type": "stream",
     "text": [
      "Fitting 5 folds for each of 360 candidates, totalling 1800 fits\n",
      "R2 on train: 0.709\n",
      "R2 on test: 0.608\n",
      "RMSE on test: 142.936\n",
      "MAE on test: 72.516\n",
      "Best Parameters :  {'gamma': 0.0, 'learning_rate': 0.1, 'max_depth': 3, 'min_child_weight': 5, 'n_estimators': 100, 'objective': 'reg:squarederror'}\n",
      "Wall time: 47.7 s\n"
     ]
    }
   ],
   "source": [
    "%%time\n",
    "\n",
    "model = XGBRegressor()\n",
    "\n",
    "params = {\n",
    "    'max_depth': [3, 4, 5, 6, 8],\n",
    "    'objective': ['reg:squarederror'],\n",
    "    'min_child_weight': [1, 3, 5, 7],\n",
    "    'learning_rate': [0.05, 0.1, 0.15],\n",
    "    'gamma': [0.0, 0.1, 0.2],\n",
    "    'n_estimators': [100, 500]\n",
    "}  # Задаем словарь для алгоритма Grid Search, где ключ - имя параметра, а значение - список возможных вариантов\n",
    "\n",
    "grid = GridSearchCV(model, params, verbose=2, n_jobs=-1)  # Реализуем алгоритм Grid Search\n",
    "grid.fit(X_train, y_train)\n",
    "\n",
    "y_pred = grid.best_estimator_.predict(X_test)\n",
    "\n",
    "print(f'R2 on train: {round(grid.best_estimator_.score(X_train, y_train), 3)}') # R2 для лучшей модели на обучающей выборке\n",
    "print(f'R2 on test: {round(grid.best_estimator_.score(X_test, y_test), 3)}') # R2 для лучшей модели на тестовой выборке\n",
    "print(f'RMSE on test: {round(mean_squared_error(y_test, y_pred, squared=False), 3)}') \n",
    "# RMSE для лучшей модели на тестовой выборке\n",
    "print(f'MAE on test: {round(mean_absolute_error(y_test, y_pred), 3)}')  # MAE для лучшей модели на тестовой выборке\n",
    "print('Best Parameters : ', grid.best_params_)  # Параметры лучшей модели"
   ]
  },
  {
   "cell_type": "markdown",
   "id": "bbbf17a6",
   "metadata": {},
   "source": [
    "### LGMB регрессия с кодированными фичами"
   ]
  },
  {
   "cell_type": "code",
   "execution_count": 26,
   "id": "f066bb15",
   "metadata": {},
   "outputs": [
    {
     "name": "stdout",
     "output_type": "stream",
     "text": [
      "Fitting 5 folds for each of 240 candidates, totalling 1200 fits\n",
      "R2 on train: 0.679\n",
      "R2 on test: 0.573\n",
      "RMSE on test: 149.328\n",
      "MAE on test: 74.276\n",
      "Best Parameters :  {'learning_rate': 0.05, 'max_depth': 3, 'min_child_weight': 1, 'n_estimators': 500}\n",
      "Wall time: 7.38 s\n"
     ]
    }
   ],
   "source": [
    "%%time\n",
    "\n",
    "model = LGBMRegressor()\n",
    "\n",
    "params = {\n",
    "    'max_depth': [3, 4, 5, 6, 8],\n",
    "    'min_child_weight': [1, 3, 5, 7],\n",
    "    'learning_rate': [0.05, 0.1, 0.15],\n",
    "    'n_estimators': [50, 100, 200, 500]\n",
    "}\n",
    "\n",
    "grid = GridSearchCV(model, params, verbose=2, n_jobs=-1)\n",
    "grid.fit(X_train, y_train)\n",
    "\n",
    "y_pred = grid.best_estimator_.predict(X_test)\n",
    "\n",
    "print(f'R2 on train: {round(grid.best_estimator_.score(X_train, y_train), 3)}')\n",
    "print(f'R2 on test: {round(grid.best_estimator_.score(X_test, y_test), 3)}')\n",
    "print(f'RMSE on test: {round(mean_squared_error(y_test, y_pred, squared=False), 3)}')\n",
    "print(f'MAE on test: {round(mean_absolute_error(y_test, y_pred), 3)}')\n",
    "print('Best Parameters : ', grid.best_params_)"
   ]
  },
  {
   "cell_type": "markdown",
   "id": "415f84ba",
   "metadata": {},
   "source": [
    "### CatBoost регресиия с кодированными фичами"
   ]
  },
  {
   "cell_type": "code",
   "execution_count": 28,
   "id": "20722280",
   "metadata": {
    "scrolled": false
   },
   "outputs": [
    {
     "name": "stdout",
     "output_type": "stream",
     "text": [
      "Fitting 5 folds for each of 36 candidates, totalling 180 fits\n",
      "R2 on train: 0.708\n",
      "R2 on test: 0.66\n",
      "RMSE on test: 133.109\n",
      "MAE on test: 68.017\n",
      "Best Parameters :  {'depth': 3, 'learning_rate': 0.1, 'n_estimators': 200}\n",
      "Wall time: 8.11 s\n"
     ]
    }
   ],
   "source": [
    "%%time\n",
    "\n",
    "model = CatBoostRegressor(verbose=False)\n",
    "\n",
    "params = {\n",
    "    'learning_rate': [0.01, 0.1, 1],\n",
    "    'depth': [3, 5, 7],\n",
    "    'n_estimators': [50, 100, 200, 500]\n",
    "}\n",
    "\n",
    "grid = GridSearchCV(model, params, verbose=2, n_jobs=-1)\n",
    "grid.fit(X_train, y_train)\n",
    "\n",
    "y_pred = grid.best_estimator_.predict(X_test)\n",
    "\n",
    "print(f'R2 on train: {round(grid.best_estimator_.score(X_train, y_train), 3)}')\n",
    "print(f'R2 on test: {round(grid.best_estimator_.score(X_test, y_test), 3)}')\n",
    "print(f'RMSE on test: {round(mean_squared_error(y_test, y_pred, squared=False), 3)}')\n",
    "print(f'MAE on test: {round(mean_absolute_error(y_test, y_pred), 3)}')\n",
    "print('Best Parameters : ', grid.best_params_)"
   ]
  },
  {
   "cell_type": "markdown",
   "id": "424f59aa",
   "metadata": {},
   "source": [
    "<span style=\"color:mediumblue\">\n",
    "Выше я использовал бустинг на кодированных с помощью OHC фичах, далее попробую те же алгоритмы на категориальных фичах без кодирования.\n",
    "</span>"
   ]
  },
  {
   "cell_type": "markdown",
   "id": "6ecd987b",
   "metadata": {},
   "source": [
    "___"
   ]
  },
  {
   "cell_type": "code",
   "execution_count": 20,
   "id": "3ef867f4",
   "metadata": {},
   "outputs": [
    {
     "data": {
      "text/plain": [
       "name             object\n",
       "kind           category\n",
       "type           category\n",
       "amount            int64\n",
       "total_gb        float64\n",
       "speed             int64\n",
       "cas_latency     float64\n",
       "price           float64\n",
       "dtype: object"
      ]
     },
     "execution_count": 20,
     "metadata": {},
     "output_type": "execute_result"
    }
   ],
   "source": [
    "df3 = df2.astype({'kind': 'category', 'type': 'category'})  # Меняем тип на категориальный\n",
    "df3.dtypes"
   ]
  },
  {
   "cell_type": "code",
   "execution_count": 21,
   "id": "da9f38b3",
   "metadata": {},
   "outputs": [],
   "source": [
    "y_cat = df3['price']\n",
    "X_cat = df3.drop(['price', 'name'], axis=1)  # Обновляем данные"
   ]
  },
  {
   "cell_type": "code",
   "execution_count": 22,
   "id": "ba2355e2",
   "metadata": {},
   "outputs": [],
   "source": [
    "X_train_cat, X_test_cat, y_train_cat, y_test_cat = train_test_split(X_cat, y_cat, test_size=.2, random_state=42)"
   ]
  },
  {
   "cell_type": "markdown",
   "id": "29ecbf1f",
   "metadata": {},
   "source": [
    "---"
   ]
  },
  {
   "cell_type": "markdown",
   "id": "221384b8",
   "metadata": {},
   "source": [
    "### XGB регресиия с категориальными фичами"
   ]
  },
  {
   "cell_type": "code",
   "execution_count": 34,
   "id": "a50e5743",
   "metadata": {
    "scrolled": true
   },
   "outputs": [
    {
     "name": "stdout",
     "output_type": "stream",
     "text": [
      "Fitting 5 folds for each of 48 candidates, totalling 240 fits\n",
      "R2 on train: 0.792\n",
      "R2 on test: 0.617\n",
      "RMSE on test: 141.396\n",
      "MAE on test: 68.403\n",
      "Best Parameters :  {'enable_categorical': True, 'gamma': 0.0, 'learning_rate': 0.05, 'n_estimators': 100, 'objective': 'reg:squarederror', 'tree_method': 'hist'}\n",
      "Wall time: 3.92 s\n"
     ]
    }
   ],
   "source": [
    "%%time\n",
    "\n",
    "model = XGBRegressor()\n",
    "\n",
    "params = {\n",
    "    'objective': ['reg:squarederror'],\n",
    "    'learning_rate': [0.01, 0.05, 0.1, 0.15],\n",
    "    'gamma': [0.0, 0.1, 0.2],\n",
    "    'n_estimators': [100, 500],\n",
    "    'enable_categorical': [True],\n",
    "    'tree_method': ['hist', 'approx']\n",
    "}\n",
    "\n",
    "grid = GridSearchCV(model, params, verbose=2, n_jobs=-1)\n",
    "grid.fit(X_train_cat, y_train_cat)\n",
    "\n",
    "y_pred_cat = grid.best_estimator_.predict(X_test_cat)\n",
    "\n",
    "print(f'R2 on train: {round(grid.best_estimator_.score(X_train_cat, y_train_cat), 3)}')\n",
    "print(f'R2 on test: {round(grid.best_estimator_.score(X_test_cat, y_test_cat), 3)}')\n",
    "print(f'RMSE on test: {round(mean_squared_error(y_test_cat, y_pred_cat, squared=False), 3)}')\n",
    "print(f'MAE on test: {round(mean_absolute_error(y_test_cat, y_pred_cat), 3)}')\n",
    "print('Best Parameters : ', grid.best_params_)"
   ]
  },
  {
   "cell_type": "markdown",
   "id": "d002028a",
   "metadata": {},
   "source": [
    "### CatBoost регресиия с категориальными фичами"
   ]
  },
  {
   "cell_type": "code",
   "execution_count": 37,
   "id": "55fcff33",
   "metadata": {
    "scrolled": true
   },
   "outputs": [
    {
     "name": "stdout",
     "output_type": "stream",
     "text": [
      "Fitting 5 folds for each of 5 candidates, totalling 25 fits\n",
      "R2 on train: 0.735\n",
      "R2 on test: 0.646\n",
      "RMSE on test: 135.817\n",
      "MAE on test: 68.642\n",
      "Best Parameters :  {'l2_leaf_reg': 6}\n",
      "Wall time: 1min 32s\n"
     ]
    }
   ],
   "source": [
    "%%time\n",
    "\n",
    "model = CatBoostRegressor(verbose=False, cat_features=['kind', 'type'])\n",
    "\n",
    "params = {\n",
    "    'l2_leaf_reg': [3, 6, 9, 11, 12]\n",
    "}\n",
    "\n",
    "grid = GridSearchCV(model, params, verbose=2, n_jobs=-1)\n",
    "grid.fit(X_train_cat, y_train_cat)\n",
    "\n",
    "y_pred_cat = grid.best_estimator_.predict(X_test_cat)\n",
    "\n",
    "print(f'R2 on train: {round(grid.best_estimator_.score(X_train_cat, y_train_cat), 3)}')\n",
    "print(f'R2 on test: {round(grid.best_estimator_.score(X_test_cat, y_test_cat), 3)}')\n",
    "print(f'RMSE on test: {round(mean_squared_error(y_test_cat, y_pred_cat, squared=False), 3)}')\n",
    "print(f'MAE on test: {round(mean_absolute_error(y_test_cat, y_pred_cat), 3)}')\n",
    "print('Best Parameters : ', grid.best_params_)"
   ]
  },
  {
   "cell_type": "code",
   "execution_count": 34,
   "id": "890fe625",
   "metadata": {},
   "outputs": [],
   "source": [
    "# P.S. Для данного варианта CatBoost регресии я перебрал гораздо больший список параметров в GoogleColab, \n",
    "# но решил не повторять подбор на локальной машине, т.к. это бы заняло много ресурсов и времени.\n",
    "# Поэтому получается, что ячейка выше просто отражает алгоритм обучения.\n",
    "# Параметры для данной модели далее по ходу проекта подобраны как раз в Colab."
   ]
  },
  {
   "cell_type": "markdown",
   "id": "52b5a692",
   "metadata": {},
   "source": [
    "<span style=\"color:mediumblue\">\n",
    "Можно заметить, что качество моделей на категориальных фичах в среднем выросло, что только упрощает задачу отсутсвием необходимости энкодинга.\n",
    "</span>"
   ]
  },
  {
   "cell_type": "markdown",
   "id": "16eb64f8",
   "metadata": {},
   "source": [
    "## Анализ результатов"
   ]
  },
  {
   "cell_type": "markdown",
   "id": "f71e30f0",
   "metadata": {},
   "source": [
    "<span style=\"color:mediumblue\">\n",
    "По результатам ислледований выше я решил выбрать модель CatBoost с определнными подобранными параметрами, т.к. у этой модели метрики показали лучший результат среди всех расмотреных моделей.\n",
    "</span>"
   ]
  },
  {
   "cell_type": "code",
   "execution_count": 79,
   "id": "07046e5b",
   "metadata": {},
   "outputs": [
    {
     "name": "stdout",
     "output_type": "stream",
     "text": [
      "R2 on train: 0.672\n",
      "R2 on test: 0.669\n",
      "RMSE on test: 131.42\n",
      "MAE on test: 69.034\n",
      "Wall time: 1.66 s\n"
     ]
    }
   ],
   "source": [
    "%%time\n",
    "\n",
    "params = {'l2_leaf_reg': 9, 'depth': 3, 'learning_rate': 0.1, 'n_estimators': 200, 'verbose': False,\n",
    "         'cat_features': ['kind', 'type']}  # Задаем подобранные параметры\n",
    "\n",
    "model = CatBoostRegressor(**params)\n",
    "\n",
    "model.fit(X_train_cat, y_train_cat)\n",
    "\n",
    "y_pred_cat = model.predict(X_test_cat)\n",
    "\n",
    "print(f'R2 on train: {round(model.score(X_train_cat, y_train_cat), 3)}')\n",
    "print(f'R2 on test: {round(model.score(X_test_cat, y_test_cat), 3)}')\n",
    "print(f'RMSE on test: {round(mean_squared_error(y_test_cat, y_pred_cat, squared=False), 3)}')\n",
    "print(f'MAE on test: {round(mean_absolute_error(y_test_cat, y_pred_cat), 3)}')"
   ]
  },
  {
   "cell_type": "markdown",
   "id": "c32f7043",
   "metadata": {},
   "source": [
    "<span style=\"color:mediumblue\">\n",
    "Можно заметить,что R2 на тестовой и обучающей выборке дает примерно схожий результат, что говорит о том, что модель не переобучилась и одинаково работает для различных данных.\n",
    "</span>"
   ]
  },
  {
   "cell_type": "code",
   "execution_count": 191,
   "id": "4dab8d19",
   "metadata": {},
   "outputs": [
    {
     "name": "stdout",
     "output_type": "stream",
     "text": [
      "kind 2.8334426614647703\n",
      "type 0.18243936093706595\n",
      "amount 36.98113854533681\n",
      "total_gb 36.43223011763823\n",
      "speed 18.696174490958132\n",
      "cas_latency 4.874574823664985\n"
     ]
    }
   ],
   "source": [
    "[print(name, coef) for name, coef in zip(model.feature_names_, model.feature_importances_)];"
   ]
  },
  {
   "cell_type": "markdown",
   "id": "e98eac4e",
   "metadata": {},
   "source": [
    "<span style=\"color:mediumblue\">\n",
    "Из анализа весов фичей можно сделать вывод, что столбец <i>type</i> практически ничего не значит для нашей модели, а <i>amount</i> и <i>total_gb</i> имеют одинаково большой вес. Попробую испоьзовать эти знания для дальнейшей переработки фичей.\n",
    "</span>"
   ]
  },
  {
   "cell_type": "markdown",
   "id": "cc77e38d",
   "metadata": {},
   "source": [
    "## Работа с фичами"
   ]
  },
  {
   "cell_type": "markdown",
   "id": "c64000b3",
   "metadata": {},
   "source": [
    "<span style=\"color:mediumblue\">\n",
    "Далее я постараюсь немного изменить входные данные для улучшения качества работы модели.\n",
    "</span>"
   ]
  },
  {
   "cell_type": "code",
   "execution_count": 24,
   "id": "96cd01d6",
   "metadata": {},
   "outputs": [
    {
     "data": {
      "text/html": [
       "<div>\n",
       "<style scoped>\n",
       "    .dataframe tbody tr th:only-of-type {\n",
       "        vertical-align: middle;\n",
       "    }\n",
       "\n",
       "    .dataframe tbody tr th {\n",
       "        vertical-align: top;\n",
       "    }\n",
       "\n",
       "    .dataframe thead th {\n",
       "        text-align: right;\n",
       "    }\n",
       "</style>\n",
       "<table border=\"1\" class=\"dataframe\">\n",
       "  <thead>\n",
       "    <tr style=\"text-align: right;\">\n",
       "      <th></th>\n",
       "      <th>name</th>\n",
       "      <th>kind</th>\n",
       "      <th>type</th>\n",
       "      <th>amount</th>\n",
       "      <th>total_gb</th>\n",
       "      <th>speed</th>\n",
       "      <th>cas_latency</th>\n",
       "      <th>price</th>\n",
       "      <th>gb_per_stick</th>\n",
       "      <th>brand</th>\n",
       "    </tr>\n",
       "  </thead>\n",
       "  <tbody>\n",
       "    <tr>\n",
       "      <th>0</th>\n",
       "      <td>Corsair Vengeance LPX 16 GB</td>\n",
       "      <td>DDR4</td>\n",
       "      <td>288-pin DIMM</td>\n",
       "      <td>2</td>\n",
       "      <td>16.0</td>\n",
       "      <td>3000</td>\n",
       "      <td>15.0</td>\n",
       "      <td>88.88</td>\n",
       "      <td>8.0</td>\n",
       "      <td>Corsair</td>\n",
       "    </tr>\n",
       "    <tr>\n",
       "      <th>1</th>\n",
       "      <td>Corsair Vengeance LPX 16 GB</td>\n",
       "      <td>DDR4</td>\n",
       "      <td>288-pin DIMM</td>\n",
       "      <td>2</td>\n",
       "      <td>16.0</td>\n",
       "      <td>3200</td>\n",
       "      <td>16.0</td>\n",
       "      <td>90.08</td>\n",
       "      <td>8.0</td>\n",
       "      <td>Corsair</td>\n",
       "    </tr>\n",
       "    <tr>\n",
       "      <th>2</th>\n",
       "      <td>G.Skill Trident Z RGB 16 GB</td>\n",
       "      <td>DDR4</td>\n",
       "      <td>288-pin DIMM</td>\n",
       "      <td>2</td>\n",
       "      <td>16.0</td>\n",
       "      <td>3200</td>\n",
       "      <td>16.0</td>\n",
       "      <td>102.49</td>\n",
       "      <td>8.0</td>\n",
       "      <td>G.Skill</td>\n",
       "    </tr>\n",
       "    <tr>\n",
       "      <th>3</th>\n",
       "      <td>Corsair Vengeance RGB Pro 16 GB</td>\n",
       "      <td>DDR4</td>\n",
       "      <td>288-pin DIMM</td>\n",
       "      <td>2</td>\n",
       "      <td>16.0</td>\n",
       "      <td>3200</td>\n",
       "      <td>16.0</td>\n",
       "      <td>104.19</td>\n",
       "      <td>8.0</td>\n",
       "      <td>Corsair</td>\n",
       "    </tr>\n",
       "    <tr>\n",
       "      <th>4</th>\n",
       "      <td>Corsair Vengeance RGB Pro 32 GB</td>\n",
       "      <td>DDR4</td>\n",
       "      <td>288-pin DIMM</td>\n",
       "      <td>2</td>\n",
       "      <td>32.0</td>\n",
       "      <td>3200</td>\n",
       "      <td>16.0</td>\n",
       "      <td>181.29</td>\n",
       "      <td>16.0</td>\n",
       "      <td>Corsair</td>\n",
       "    </tr>\n",
       "    <tr>\n",
       "      <th>...</th>\n",
       "      <td>...</td>\n",
       "      <td>...</td>\n",
       "      <td>...</td>\n",
       "      <td>...</td>\n",
       "      <td>...</td>\n",
       "      <td>...</td>\n",
       "      <td>...</td>\n",
       "      <td>...</td>\n",
       "      <td>...</td>\n",
       "      <td>...</td>\n",
       "    </tr>\n",
       "    <tr>\n",
       "      <th>7110</th>\n",
       "      <td>Kingston KVR16R11S4/8 8 GB</td>\n",
       "      <td>DDR3</td>\n",
       "      <td>240-pin DIMM</td>\n",
       "      <td>1</td>\n",
       "      <td>8.0</td>\n",
       "      <td>1600</td>\n",
       "      <td>11.0</td>\n",
       "      <td>81.18</td>\n",
       "      <td>8.0</td>\n",
       "      <td>Kingston</td>\n",
       "    </tr>\n",
       "    <tr>\n",
       "      <th>7113</th>\n",
       "      <td>Kingston KVR16R11S4K4/32 32 GB</td>\n",
       "      <td>DDR3</td>\n",
       "      <td>240-pin DIMM</td>\n",
       "      <td>4</td>\n",
       "      <td>32.0</td>\n",
       "      <td>1600</td>\n",
       "      <td>11.0</td>\n",
       "      <td>536.68</td>\n",
       "      <td>8.0</td>\n",
       "      <td>Kingston</td>\n",
       "    </tr>\n",
       "    <tr>\n",
       "      <th>7115</th>\n",
       "      <td>Kingston KVR16R11S4K3/24 24 GB</td>\n",
       "      <td>DDR3</td>\n",
       "      <td>240-pin DIMM</td>\n",
       "      <td>3</td>\n",
       "      <td>24.0</td>\n",
       "      <td>1600</td>\n",
       "      <td>11.0</td>\n",
       "      <td>349.18</td>\n",
       "      <td>8.0</td>\n",
       "      <td>Kingston</td>\n",
       "    </tr>\n",
       "    <tr>\n",
       "      <th>7117</th>\n",
       "      <td>Kingston KVR18R13D4K3/48 48 GB</td>\n",
       "      <td>DDR3</td>\n",
       "      <td>240-pin DIMM</td>\n",
       "      <td>3</td>\n",
       "      <td>48.0</td>\n",
       "      <td>1866</td>\n",
       "      <td>13.0</td>\n",
       "      <td>772.98</td>\n",
       "      <td>16.0</td>\n",
       "      <td>Kingston</td>\n",
       "    </tr>\n",
       "    <tr>\n",
       "      <th>7132</th>\n",
       "      <td>Kingston KTD-PE316LLQ/32G 32 GB</td>\n",
       "      <td>DDR3</td>\n",
       "      <td>240-pin DIMM</td>\n",
       "      <td>1</td>\n",
       "      <td>32.0</td>\n",
       "      <td>1600</td>\n",
       "      <td>11.0</td>\n",
       "      <td>208.47</td>\n",
       "      <td>32.0</td>\n",
       "      <td>Kingston</td>\n",
       "    </tr>\n",
       "  </tbody>\n",
       "</table>\n",
       "<p>2335 rows × 10 columns</p>\n",
       "</div>"
      ],
      "text/plain": [
       "                                 name  kind          type  amount  total_gb  \\\n",
       "0         Corsair Vengeance LPX 16 GB  DDR4  288-pin DIMM       2      16.0   \n",
       "1         Corsair Vengeance LPX 16 GB  DDR4  288-pin DIMM       2      16.0   \n",
       "2         G.Skill Trident Z RGB 16 GB  DDR4  288-pin DIMM       2      16.0   \n",
       "3     Corsair Vengeance RGB Pro 16 GB  DDR4  288-pin DIMM       2      16.0   \n",
       "4     Corsair Vengeance RGB Pro 32 GB  DDR4  288-pin DIMM       2      32.0   \n",
       "...                               ...   ...           ...     ...       ...   \n",
       "7110       Kingston KVR16R11S4/8 8 GB  DDR3  240-pin DIMM       1       8.0   \n",
       "7113   Kingston KVR16R11S4K4/32 32 GB  DDR3  240-pin DIMM       4      32.0   \n",
       "7115   Kingston KVR16R11S4K3/24 24 GB  DDR3  240-pin DIMM       3      24.0   \n",
       "7117   Kingston KVR18R13D4K3/48 48 GB  DDR3  240-pin DIMM       3      48.0   \n",
       "7132  Kingston KTD-PE316LLQ/32G 32 GB  DDR3  240-pin DIMM       1      32.0   \n",
       "\n",
       "      speed  cas_latency   price  gb_per_stick     brand  \n",
       "0      3000         15.0   88.88           8.0   Corsair  \n",
       "1      3200         16.0   90.08           8.0   Corsair  \n",
       "2      3200         16.0  102.49           8.0   G.Skill  \n",
       "3      3200         16.0  104.19           8.0   Corsair  \n",
       "4      3200         16.0  181.29          16.0   Corsair  \n",
       "...     ...          ...     ...           ...       ...  \n",
       "7110   1600         11.0   81.18           8.0  Kingston  \n",
       "7113   1600         11.0  536.68           8.0  Kingston  \n",
       "7115   1600         11.0  349.18           8.0  Kingston  \n",
       "7117   1866         13.0  772.98          16.0  Kingston  \n",
       "7132   1600         11.0  208.47          32.0  Kingston  \n",
       "\n",
       "[2335 rows x 10 columns]"
      ]
     },
     "execution_count": 24,
     "metadata": {},
     "output_type": "execute_result"
    }
   ],
   "source": [
    "df4 = df2.copy()\n",
    "df4['gb_per_stick'] = df4['total_gb'] / df4['amount']  # Получаем кол-во гигайбайт на плашку\n",
    "df4['brand'] = df4['name'].str.split(' ').str[0]  # Выделяем бренд из названия\n",
    "df4"
   ]
  },
  {
   "cell_type": "markdown",
   "id": "96781791",
   "metadata": {},
   "source": [
    "<span style=\"color:mediumblue\">\n",
    "Я решил добавить суррогатный столбец <i>gb_per_stick</i>, который отражает кол-во гигабайт на плашку и столбец <i>brand</i>, который показывает бренд памяти.\n",
    "</span>"
   ]
  },
  {
   "cell_type": "code",
   "execution_count": 25,
   "id": "42794c2a",
   "metadata": {},
   "outputs": [
    {
     "data": {
      "text/plain": [
       "Corsair       546\n",
       "G.Skill       476\n",
       "Kingston      462\n",
       "Crucial       310\n",
       "Mushkin       125\n",
       "Team          119\n",
       "Patriot       112\n",
       "ADATA          40\n",
       "GeIL           37\n",
       "Samsung        27\n",
       "OLOy           21\n",
       "PNY            14\n",
       "Wintec         13\n",
       "VisionTek      10\n",
       "IBM             3\n",
       "OCZ             3\n",
       "V-Color         3\n",
       "HP              2\n",
       "Supermicro      2\n",
       "V7              2\n",
       "Micron          2\n",
       "Gigabyte        2\n",
       "Super           1\n",
       "AMD             1\n",
       "Silicon         1\n",
       "Transcend       1\n",
       "Name: brand, dtype: int64"
      ]
     },
     "execution_count": 25,
     "metadata": {},
     "output_type": "execute_result"
    }
   ],
   "source": [
    "df4.brand.value_counts()  # Все возможны бренды и их кол-во"
   ]
  },
  {
   "cell_type": "code",
   "execution_count": 25,
   "id": "08a5543e",
   "metadata": {},
   "outputs": [
    {
     "data": {
      "text/plain": [
       "name              object\n",
       "kind            category\n",
       "type            category\n",
       "amount             int64\n",
       "total_gb         float64\n",
       "speed              int64\n",
       "cas_latency      float64\n",
       "price            float64\n",
       "gb_per_stick     float64\n",
       "brand           category\n",
       "dtype: object"
      ]
     },
     "execution_count": 25,
     "metadata": {},
     "output_type": "execute_result"
    }
   ],
   "source": [
    "df4 = df4.astype({'kind': 'category', 'type': 'category', 'brand': 'category'})  \n",
    "# Устанавливаем тип: категория нужным фичам\n",
    "df4.dtypes"
   ]
  },
  {
   "cell_type": "markdown",
   "id": "8e2bc2af",
   "metadata": {},
   "source": [
    "## Оптимизация лучшей модели"
   ]
  },
  {
   "cell_type": "markdown",
   "id": "135e1e52",
   "metadata": {},
   "source": [
    "<span style=\"color:mediumblue\">\n",
    "Далее попробую подобрать \"вручную\" (основываюсь на предыдущих попытках обучения) наилучшие параметры на новом датасете. В последующем подборе параметров и фичей также буду учитывать кросс-валидацию для более достоверной оценки результата.\n",
    "</span>"
   ]
  },
  {
   "cell_type": "code",
   "execution_count": 32,
   "id": "21e62d14",
   "metadata": {},
   "outputs": [
    {
     "name": "stdout",
     "output_type": "stream",
     "text": [
      "R2 on train: 0.678\n",
      "R2 on test: 0.688\n",
      "RMSE on test: 127.615\n",
      "MAE on test: 67.432\n",
      "Cross valinadtion scores: [0.61178321 0.56261795 0.48011112 0.55762244]\n",
      "Wall time: 8.51 s\n"
     ]
    }
   ],
   "source": [
    "%%time\n",
    "\n",
    "y3 = df4['price']\n",
    "X3 = df4.drop(['price', 'name', 'gb_per_stick'], axis=1)  # Убираем лишние фичи из датасета\n",
    "\n",
    "X3_train, X3_test, y3_train, y3_test = train_test_split(X3, y3, test_size=.2, random_state=42)\n",
    "\n",
    "params = {'l2_leaf_reg': 9, 'depth': 3, 'learning_rate': 0.1, 'n_estimators': 200, 'verbose': False, \n",
    "          'cat_features': ['kind', 'type', 'brand']}\n",
    "\n",
    "model = CatBoostRegressor(**params)\n",
    "\n",
    "model.fit(X3_train, y3_train)\n",
    "\n",
    "y_pred = model.predict(X3_test)\n",
    "\n",
    "print(f'R2 on train: {round(model.score(X3_train, y3_train), 3)}')\n",
    "print(f'R2 on test: {round(model.score(X3_test, y3_test), 3)}')\n",
    "print(f'RMSE on test: {round(mean_squared_error(y3_test, y_pred, squared=False), 3)}')\n",
    "print(f'MAE on test: {round(mean_absolute_error(y3_test, y_pred), 3)}')\n",
    "print(f'Cross valinadtion scores: {cross_val_score(model, X3, y3, cv=4)}')"
   ]
  },
  {
   "cell_type": "code",
   "execution_count": 28,
   "id": "d0dd4d18",
   "metadata": {},
   "outputs": [
    {
     "name": "stdout",
     "output_type": "stream",
     "text": [
      "kind 1.2858353217795508\n",
      "type 0.7916895716971561\n",
      "amount 35.190631840954886\n",
      "total_gb 37.258060736148835\n",
      "speed 16.398666697365577\n",
      "cas_latency 4.496952725284663\n",
      "brand 4.578163106769333\n"
     ]
    }
   ],
   "source": [
    "[print(name, coef) for name, coef in zip(model.feature_names_, model.feature_importances_)];"
   ]
  },
  {
   "cell_type": "markdown",
   "id": "da214669",
   "metadata": {},
   "source": [
    "<span style=\"color:mediumblue\">\n",
    "Можно заметить, что вес признака <i>type</i> практически равен нулю, поэтому попробую его убрать и заново обучить модель.\n",
    "</span>"
   ]
  },
  {
   "cell_type": "code",
   "execution_count": 33,
   "id": "44153ee1",
   "metadata": {},
   "outputs": [
    {
     "name": "stdout",
     "output_type": "stream",
     "text": [
      "R2 on train: 0.681\n",
      "R2 on test: 0.694\n",
      "RMSE on test: 126.266\n",
      "MAE on test: 66.346\n",
      "Cross valinadtion scores: [0.60637067 0.55956939 0.49036093 0.51993731]\n",
      "Wall time: 8.71 s\n"
     ]
    }
   ],
   "source": [
    "%%time\n",
    "\n",
    "y3 = df4['price']\n",
    "X3 = df4.drop(['price', 'name', 'type', 'gb_per_stick'], axis=1)\n",
    "\n",
    "X3_train, X3_test, y3_train, y3_test = train_test_split(X3, y3, test_size=.2, random_state=42)\n",
    "\n",
    "params = {'l2_leaf_reg': 9, 'depth': 3, 'learning_rate': 0.1, 'n_estimators': 200, 'verbose': False, \n",
    "          'cat_features': ['kind', 'brand']}\n",
    "\n",
    "model = CatBoostRegressor(**params)\n",
    "\n",
    "model.fit(X3_train, y3_train)\n",
    "\n",
    "y_pred = model.predict(X3_test)\n",
    "\n",
    "print(f'R2 on train: {round(model.score(X3_train, y3_train), 3)}')\n",
    "print(f'R2 on test: {round(model.score(X3_test, y3_test), 3)}')\n",
    "print(f'RMSE on test: {round(mean_squared_error(y3_test, y_pred, squared=False), 3)}')\n",
    "print(f'MAE on test: {round(mean_absolute_error(y3_test, y_pred), 3)}')\n",
    "print(f'Cross valinadtion scores: {cross_val_score(model, X3, y3, cv=4)}')"
   ]
  },
  {
   "cell_type": "markdown",
   "id": "103969d9",
   "metadata": {},
   "source": [
    "<span style=\"color:mediumblue\">\n",
    "Действительно, такая коррекция дала незначительное улучшение результата.\n",
    "</span>"
   ]
  },
  {
   "cell_type": "code",
   "execution_count": 195,
   "id": "40e5df32",
   "metadata": {},
   "outputs": [
    {
     "name": "stdout",
     "output_type": "stream",
     "text": [
      "kind 2.0852699366334533\n",
      "amount 36.45887397892321\n",
      "total_gb 33.792301254941215\n",
      "speed 18.033547286624223\n",
      "cas_latency 4.68846521383486\n",
      "brand 4.941542329043016\n"
     ]
    }
   ],
   "source": [
    "[print(name, coef) for name, coef in zip(model.feature_names_, model.feature_importances_)];"
   ]
  },
  {
   "cell_type": "markdown",
   "id": "ea02d48f",
   "metadata": {},
   "source": [
    "<span style=\"color:mediumblue\">\n",
    "Также заново попробуем подобрать некоторые параметры модели для нового набора фичей.\n",
    "</span>"
   ]
  },
  {
   "cell_type": "code",
   "execution_count": 35,
   "id": "6894350e",
   "metadata": {},
   "outputs": [
    {
     "name": "stdout",
     "output_type": "stream",
     "text": [
      "Fitting 5 folds for each of 27 candidates, totalling 135 fits\n",
      "R2 on train: 0.73\n",
      "R2 on test: 0.685\n",
      "RMSE on test: 128.21\n",
      "MAE on test: 64.807\n",
      "Best Parameters :  {'depth': 5, 'l2_leaf_reg': 7, 'n_estimators': 700}\n",
      "Cross valinadtion scores: [0.61703817 0.55994098 0.4783603  0.57177865]\n",
      "Wall time: 3min 6s\n"
     ]
    }
   ],
   "source": [
    "%%time\n",
    "\n",
    "y3 = df4['price']\n",
    "X3 = df4.drop(['price', 'name', 'type', 'gb_per_stick'], axis=1)\n",
    "\n",
    "X3_train, X3_test, y3_train, y3_test = train_test_split(X3, y3, test_size=.2, random_state=42)\n",
    "\n",
    "model = CatBoostRegressor(verbose=False, cat_features=['kind', 'brand'])\n",
    "\n",
    "params = {\n",
    "    'l2_leaf_reg': [7, 9, 11],\n",
    "    'depth': [3, 4, 5],\n",
    "    'n_estimators': [200, 500, 700]\n",
    "}\n",
    "\n",
    "grid = GridSearchCV(model, params, verbose=2, n_jobs=-1)\n",
    "grid.fit(X3_train, y3_train)\n",
    "\n",
    "y_pred = grid.best_estimator_.predict(X3_test)\n",
    "\n",
    "print(f'R2 on train: {round(grid.best_estimator_.score(X3_train, y3_train), 3)}')\n",
    "print(f'R2 on test: {round(grid.best_estimator_.score(X3_test, y3_test), 3)}')\n",
    "print(f'RMSE on test: {round(mean_squared_error(y3_test, y_pred, squared=False), 3)}')\n",
    "print(f'MAE on test: {round(mean_absolute_error(y3_test, y_pred), 3)}')\n",
    "print('Best Parameters : ', grid.best_params_)\n",
    "print(f'Cross valinadtion scores: {cross_val_score(grid.best_estimator_, X3, y3, cv=4)}')"
   ]
  },
  {
   "cell_type": "markdown",
   "id": "06ca13c7",
   "metadata": {},
   "source": [
    "## Наилучшая модель"
   ]
  },
  {
   "cell_type": "markdown",
   "id": "6a282597",
   "metadata": {},
   "source": [
    "<span style=\"color:mediumblue\">\n",
    "Итого я остановился на параметрах, представленных в примере ниже, т.к. результаты кросс-валидации на основе метрики R2 score наилучшие из всех рассмотреных моделей, а RMSE и MAE очень близки к минимальным значениям среди всех моделей. Все модели обучались в пределах 10 минут (что не удивително, поскольку задача относительно простая), поэтому использовать время обучения как критерий для выбора лучшей модели смысла нет.\n",
    "</span>"
   ]
  },
  {
   "cell_type": "code",
   "execution_count": 34,
   "id": "93a2af3a",
   "metadata": {
    "scrolled": true
   },
   "outputs": [
    {
     "name": "stdout",
     "output_type": "stream",
     "text": [
      "R2 on train: 0.73\n",
      "R2 on test: 0.685\n",
      "RMSE on test: 128.21\n",
      "MAE on test: 64.807\n",
      "Cross valinadtion scores: [0.61703817 0.55994098 0.4783603  0.57177865]\n",
      "Wall time: 47.3 s\n"
     ]
    }
   ],
   "source": [
    "%%time\n",
    "\n",
    "y3 = df4['price']\n",
    "X3 = df4.drop(['price', 'name', 'type', 'gb_per_stick'], axis=1)\n",
    "\n",
    "X3_train, X3_test, y3_train, y3_test = train_test_split(X3, y3, test_size=.2, random_state=42)\n",
    "\n",
    "params = {'l2_leaf_reg': 7, 'depth': 5, 'n_estimators': 700, 'verbose': False,\n",
    "         'cat_features': ['kind', 'brand']}\n",
    "\n",
    "model = CatBoostRegressor(**params)\n",
    "\n",
    "model.fit(X3_train, y3_train)\n",
    "\n",
    "y_pred = model.predict(X3_test)\n",
    "\n",
    "print(f'R2 on train: {round(model.score(X3_train, y3_train), 3)}')\n",
    "print(f'R2 on test: {round(model.score(X3_test, y3_test), 3)}')\n",
    "print(f'RMSE on test: {round(mean_squared_error(y3_test, y_pred, squared=False), 3)}')\n",
    "print(f'MAE on test: {round(mean_absolute_error(y3_test, y_pred), 3)}')\n",
    "print(f'Cross valinadtion scores: {cross_val_score(model, X3, y3, cv=4)}')"
   ]
  },
  {
   "cell_type": "code",
   "execution_count": 38,
   "id": "967345cc",
   "metadata": {},
   "outputs": [
    {
     "name": "stdout",
     "output_type": "stream",
     "text": [
      "kind 6.492409273457936\n",
      "amount 30.767593971399364\n",
      "total_gb 27.669969990669696\n",
      "speed 19.68455736753094\n",
      "cas_latency 7.1523532565618355\n",
      "brand 8.23311614038031\n"
     ]
    }
   ],
   "source": [
    "[print(name, coef) for name, coef in zip(model.feature_names_, model.feature_importances_)];"
   ]
  },
  {
   "cell_type": "markdown",
   "id": "1d51c5e5",
   "metadata": {},
   "source": [
    "## Результаты"
   ]
  },
  {
   "cell_type": "markdown",
   "id": "d77cfae2",
   "metadata": {},
   "source": [
    "<span style=\"color:mediumblue\">\n",
    "В конечном итоге хотелось бы сказать следующее. Разбираться с задачей и самостоятельно изучать большинство фнукций, методов, моделей и т.д. было довольно интересно и полезно, как приобретение опыта. Я понимаю, что R2 = 0.7 - не идеальный показатель для такой сравнительно простой задачи, но, кажется, это - максимум, что можно получить из выбранного датасета. Далее я постараюсь представить масимальное количество инфографики для описания результатов работы получившейся модели. Но, к сожалению, существует не так много визуализаций (графиков) итогов работы моедли многомерной регрессии.\n",
    "</span>"
   ]
  },
  {
   "cell_type": "code",
   "execution_count": 30,
   "id": "77d78ec0",
   "metadata": {},
   "outputs": [],
   "source": [
    "df5 = df4.drop(['type', 'gb_per_stick'], axis=1)\n",
    "\n",
    "y3_train_pred = model.predict(X3_train)\n",
    "y3_test_pred = model.predict(X3_test)"
   ]
  },
  {
   "cell_type": "markdown",
   "id": "d620440b",
   "metadata": {},
   "source": [
    "### Параметры модели"
   ]
  },
  {
   "cell_type": "code",
   "execution_count": 43,
   "id": "5de50bbd",
   "metadata": {},
   "outputs": [
    {
     "name": "stdout",
     "output_type": "stream",
     "text": [
      "Скорость обучени модели: 0.03\n"
     ]
    }
   ],
   "source": [
    "print(f'Скорость обучени модели: {round(model.learning_rate_, 3)}')"
   ]
  },
  {
   "cell_type": "code",
   "execution_count": 60,
   "id": "2c61e3a6",
   "metadata": {},
   "outputs": [
    {
     "data": {
      "image/png": "[encoded data removed]",
      "text/plain": [
       "<Figure size 900x500 with 1 Axes>"
      ]
     },
     "metadata": {},
     "output_type": "display_data"
    }
   ],
   "source": [
    "RMSE = model.evals_result_['learn']['RMSE']\n",
    "\n",
    "fig, ax = plt.subplots(figsize=(9, 5))\n",
    "\n",
    "xx = np.arange(len(RMSE))\n",
    "sns.lineplot(xx, RMSE)\n",
    "\n",
    "\n",
    "plt.suptitle('Значение метрики RMSE в процессе обучения', fontsize=15, y=1)\n",
    "plt.tight_layout()"
   ]
  },
  {
   "cell_type": "markdown",
   "id": "56cb4943",
   "metadata": {},
   "source": [
    "<span style=\"color:mediumblue\">\n",
    "Здесь представленна именно метрика RMSE, т.к. модель понижала именно ее в процессе обучения.\n",
    "</span>"
   ]
  },
  {
   "cell_type": "code",
   "execution_count": 59,
   "id": "d94208e5",
   "metadata": {},
   "outputs": [
    {
     "name": "stdout",
     "output_type": "stream",
     "text": [
      "Итоговые параметры модели:\n",
      "nan_mode: Min\n",
      "eval_metric: RMSE\n",
      "combinations_ctr: ['Borders:CtrBorderCount=15:CtrBorderType=Uniform:TargetBorderCount=1:TargetBorderType=MinEntropy:Prior=0/1:Prior=0.5/1:Prior=1/1', 'Counter:CtrBorderCount=15:CtrBorderType=Uniform:Prior=0/1']\n",
      "iterations: 700\n",
      "sampling_frequency: PerTree\n",
      "fold_permutation_block: 0\n",
      "leaf_estimation_method: Newton\n",
      "counter_calc_method: SkipTest\n",
      "grow_policy: SymmetricTree\n",
      "penalties_coefficient: 1\n",
      "boosting_type: Plain\n",
      "model_shrink_mode: Constant\n",
      "feature_border_type: GreedyLogSum\n",
      "ctr_leaf_count_limit: 18446744073709551615\n",
      "bayesian_matrix_reg: 0.10000000149011612\n",
      "one_hot_max_size: 2\n",
      "eval_fraction: 0\n",
      "force_unit_auto_pair_weights: False\n",
      "l2_leaf_reg: 7\n",
      "random_strength: 1\n",
      "rsm: 1\n",
      "boost_from_average: True\n",
      "max_ctr_complexity: 4\n",
      "model_size_reg: 0.5\n",
      "simple_ctr: ['Borders:CtrBorderCount=15:CtrBorderType=Uniform:TargetBorderCount=1:TargetBorderType=MinEntropy:Prior=0/1:Prior=0.5/1:Prior=1/1', 'Counter:CtrBorderCount=15:CtrBorderType=Uniform:Prior=0/1']\n",
      "pool_metainfo_options: {'tags': {}}\n",
      "subsample: 0.800000011920929\n",
      "use_best_model: False\n",
      "random_seed: 0\n",
      "depth: 5\n",
      "ctr_target_border_count: 1\n",
      "posterior_sampling: False\n",
      "has_time: False\n",
      "store_all_simple_ctr: False\n",
      "border_count: 254\n",
      "classes_count: 0\n",
      "auto_class_weights: None\n",
      "sparse_features_conflict_fraction: 0\n",
      "leaf_estimation_backtracking: AnyImprovement\n",
      "best_model_min_trees: 1\n",
      "model_shrink_rate: 0\n",
      "min_data_in_leaf: 1\n",
      "loss_function: RMSE\n",
      "learning_rate: 0.029999999329447743\n",
      "score_function: Cosine\n",
      "task_type: CPU\n",
      "leaf_estimation_iterations: 1\n",
      "bootstrap_type: MVS\n",
      "max_leaves: 32\n",
      "permutation_count: 4\n"
     ]
    }
   ],
   "source": [
    "print('Итоговые параметры модели:')\n",
    "for key, value in model.get_all_params().items():\n",
    "    print(f'{key}: {value}')"
   ]
  },
  {
   "cell_type": "markdown",
   "id": "8ff41a68",
   "metadata": {},
   "source": [
    "### Веса признаков"
   ]
  },
  {
   "cell_type": "code",
   "execution_count": 233,
   "id": "dd244cc5",
   "metadata": {},
   "outputs": [
    {
     "name": "stdout",
     "output_type": "stream",
     "text": [
      "Принзак: kind, вес: 6.492\n",
      "Принзак: amount, вес: 30.768\n",
      "Принзак: total_gb, вес: 27.67\n",
      "Принзак: speed, вес: 19.685\n",
      "Принзак: cas_latency, вес: 7.152\n",
      "Принзак: brand, вес: 8.233\n"
     ]
    }
   ],
   "source": [
    "for feature, weight in zip(model.feature_names_, model.feature_importances_):\n",
    "    print(f'Принзак: {feature}, вес: {round(weight, 3)}')"
   ]
  },
  {
   "cell_type": "markdown",
   "id": "728d80e1",
   "metadata": {},
   "source": [
    "<span style=\"color:mediumblue\">\n",
    "Касательно весов фичей можно сделать следующие выводы. Фичи <i>amount</i> и <i>total_gb</i> наииболее важны для модели, но, при этом, также нету и бесполезных фичей, т.к. минимальный вес = 6.\n",
    "</span>"
   ]
  },
  {
   "cell_type": "markdown",
   "id": "891199c6",
   "metadata": {},
   "source": [
    "### Метрики"
   ]
  },
  {
   "cell_type": "code",
   "execution_count": 239,
   "id": "b77519a3",
   "metadata": {},
   "outputs": [
    {
     "name": "stdout",
     "output_type": "stream",
     "text": [
      "Обучающая выборка:\n",
      "RMSE (Root Mean Squared Error): 116.466\n",
      "MAE (Mean Absolute Error): 60.394\n",
      "MAPE (Mean Absolute Percentage Error): 0.437\n",
      "R^2 (Coefficient of determination): 0.73\n",
      "\n",
      "Тестовая выборка:\n",
      "RMSE (Root Mean Squared Error): 128.21\n",
      "MAE (Mean Absolute Error): 64.807\n",
      "MAPE (Mean Absolute Percentage Error): 0.438\n",
      "R^2 (Coefficient of determination): 0.685\n"
     ]
    }
   ],
   "source": [
    "print('Обучающая выборка:')\n",
    "print(f'RMSE (Root Mean Squared Error): {round(mean_squared_error(y3_train, y3_train_pred, squared=False), 3)}')\n",
    "print(f'MAE (Mean Absolute Error): {round(mean_absolute_error(y3_train, y3_train_pred), 3)}')\n",
    "print(f'MAPE (Mean Absolute Percentage Error): {round(mean_absolute_percentage_error(y3_train, y3_train_pred), 3)}')\n",
    "print(f'R^2 (Coefficient of determination): {round(r2_score(y3_train, y3_train_pred), 3)}')\n",
    "print()\n",
    "print('Тестовая выборка:')\n",
    "print(f'RMSE (Root Mean Squared Error): {round(mean_squared_error(y3_test, y3_test_pred, squared=False), 3)}')\n",
    "print(f'MAE (Mean Absolute Error): {round(mean_absolute_error(y3_test, y3_test_pred), 3)}')\n",
    "print(f'MAPE (Mean Absolute Percentage Error): {round(mean_absolute_percentage_error(y3_test, y3_test_pred), 3)}')\n",
    "print(f'R^2 (Coefficient of determination): {round(r2_score(y3_test, y3_test_pred), 3)}')"
   ]
  },
  {
   "cell_type": "markdown",
   "id": "f708655c",
   "metadata": {},
   "source": [
    "<span style=\"color:mediumblue\">\n",
    "Здесь я постарался вывести все возможные (имеющие при этом смысл) метрики для задачи регрессии для обучающих и тестовых данных. В целом можно сказать, что R2 = 0.7 нельзя назвать отличным результатом, но, учитывая, что потолок может быть задан в данном случае банально качеством данных, позволю себе назвать его хорошим. Значения остальных метрик тоже трудно назвать отличными, но, думаю, они удволетворительны для формата работы.\n",
    "</span>"
   ]
  },
  {
   "cell_type": "markdown",
   "id": "4f527fa0",
   "metadata": {},
   "source": [
    "### Ошибки модели"
   ]
  },
  {
   "cell_type": "code",
   "execution_count": 244,
   "id": "b0600fe3",
   "metadata": {},
   "outputs": [
    {
     "data": {
      "image/png": "[encoded data removed]",
      "text/plain": [
       "<Figure size 1000x500 with 2 Axes>"
      ]
     },
     "metadata": {},
     "output_type": "display_data"
    }
   ],
   "source": [
    "fig, ax = plt.subplots(nrows=1, ncols=2, figsize=(10, 5))\n",
    "\n",
    "train_errors = y3_train_pred - y3_train\n",
    "test_errors = y3_test_pred - y3_test\n",
    "\n",
    "sns.histplot(train_errors, ax=ax[0]).set_title('Обучающая выборка')\n",
    "sns.histplot(test_errors, ax=ax[1]).set_title('Тестовая выборка')\n",
    "\n",
    "plt.suptitle('Распределение ошибок', fontsize=20, y=1)\n",
    "plt.tight_layout()"
   ]
  },
  {
   "cell_type": "markdown",
   "id": "bc14645b",
   "metadata": {},
   "source": [
    "<span style=\"color:mediumblue\">\n",
    "Можем видеть, что распределение ошибок похоже на нормальное c мат. ожидиданием = 0, как и должно быть.\n",
    "</span>"
   ]
  },
  {
   "cell_type": "code",
   "execution_count": 251,
   "id": "425cce51",
   "metadata": {},
   "outputs": [
    {
     "data": {
      "image/png": "[encoded data removed]",
      "text/plain": [
       "<Figure size 1000x500 with 2 Axes>"
      ]
     },
     "metadata": {},
     "output_type": "display_data"
    }
   ],
   "source": [
    "fig, ax = plt.subplots(nrows=1, ncols=2, figsize=(10, 5))\n",
    "\n",
    "sns.lineplot(y3_train, y3_train, color='g', ax=ax[0])\n",
    "sns.scatterplot(y3_train ,y3_train_pred, ax=ax[0]).set_title('Обучающая выборка')\n",
    "\n",
    "sns.lineplot(y3_test, y3_test, color='g', ax=ax[1])\n",
    "sns.scatterplot(y3_test, y3_test_pred, ax=ax[1]).set_title('Тестовая выборка')\n",
    "\n",
    "plt.suptitle('Разброс значений', fontsize=20, y=1)\n",
    "plt.tight_layout()"
   ]
  },
  {
   "cell_type": "markdown",
   "id": "de46e201",
   "metadata": {},
   "source": [
    "<span style=\"color:mediumblue\">\n",
    "Разброс не идеальный, но значения, в целом, сконцентрированы вдоль построенной прямой. В целом выглядит приемлемо.\n",
    "</span>"
   ]
  },
  {
   "cell_type": "markdown",
   "id": "1adbe78f",
   "metadata": {},
   "source": [
    "---"
   ]
  },
  {
   "cell_type": "markdown",
   "id": "4d87fcb4",
   "metadata": {},
   "source": [
    "<span style=\"color:mediumblue\">\n",
    "Можно сказать, что с некоторой погрещностью все-таки получилось предсказывать цену оперативной памяти т.е. поставленная задача была выполнена. Также хочу поблагодарить ChatGPT за хорошие описания большиства функций, а также примеры их работы. На этом все.\n",
    "</span>"
   ]
  },
  {
   "cell_type": "code",
   "execution_count": null,
   "id": "2dcd53a9",
   "metadata": {},
   "outputs": [],
   "source": []
  }
 ],
 "metadata": {
  "kernelspec": {
   "display_name": "Python 3 (ipykernel)",
   "language": "python",
   "name": "python3"
  },
  "language_info": {
   "codemirror_mode": {
    "name": "ipython",
    "version": 3
   },
   "file_extension": ".py",
   "mimetype": "text/x-python",
   "name": "python",
   "nbconvert_exporter": "python",
   "pygments_lexer": "ipython3",
   "version": "3.9.13"
  }
 },
 "nbformat": 4,
 "nbformat_minor": 5
}
